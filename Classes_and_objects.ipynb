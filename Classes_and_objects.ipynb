{
  "cells": [
    {
      "cell_type": "code",
      "execution_count": null,
      "metadata": {
        "id": "U1b9ouNWf30s"
      },
      "outputs": [],
      "source": [
        "#class and object\n",
        "class Rectangle:\n",
        "  length=0\n",
        "  width=0\n",
        "  def Getlb(self):\n",
        "    self.length=int(input(\"Enter the length:\"))\n",
        "    self.width=int(input(\"Enter the width:\"))\n",
        "  def area(self):\n",
        "    return self.length*self.width\n",
        "  def perimeter(self):\n",
        "    return 2*(self.length+self.width)"
      ]
    },
    {
      "cell_type": "code",
      "execution_count": null,
      "metadata": {
        "id": "QLrDvBJsKLuC"
      },
      "outputs": [],
      "source": []
    },
    {
      "cell_type": "code",
      "execution_count": null,
      "metadata": {
        "id": "dMmQ8w3BhRjc"
      },
      "outputs": [],
      "source": [
        "#class and object\n",
        "class Rectangle:\n",
        "  def __init__(self):\n",
        "    self.length=int(input(\"Enter the length:\"))\n",
        "    self.width=int(input(\"Enter the width:\"))\n",
        "  def area(self):\n",
        "    return self.length*self.width\n",
        "  def perimeter(self):\n",
        "    return 2*(self.length+self.width)"
      ]
    },
    {
      "cell_type": "code",
      "execution_count": null,
      "metadata": {
        "colab": {
          "base_uri": "https://localhost:8080/"
        },
        "id": "k6GF29aLgtca",
        "outputId": "eae36e5a-6e3b-42af-9a2f-3eb74ad7efcb"
      },
      "outputs": [
        {
          "name": "stdout",
          "output_type": "stream",
          "text": [
            "Enter the length:55\n",
            "Enter the width:20\n",
            "Area: 1100\n",
            "Perimeter: 150\n"
          ]
        }
      ],
      "source": [
        "r1=Rectangle()\n",
        "print(\"Area:\",r1.area())\n",
        "print(\"Perimeter:\",r1.perimeter())\n"
      ]
    },
    {
      "cell_type": "code",
      "execution_count": null,
      "metadata": {
        "id": "78IDVbfmiGGQ"
      },
      "outputs": [],
      "source": [
        "class SimpleCalculator:\n",
        "  def __init__(self):\n",
        "    self.num1=int(input(\"Enter the first number:\"))\n",
        "    self.num2=int(input(\"Enter the second number:\"))\n",
        "\n",
        "  def add(self):\n",
        "    return self.num1+self.num2\n",
        "  def sub(self):\n",
        "    return self.num1-self.num2\n",
        "  def mul(self):\n",
        "    return self.num1*self.num2\n",
        "  def div(self):\n",
        "    return self.num1/self.num2\n",
        "  def mod(self):\n",
        "    return self.num1%self.num2\n",
        "  def power(self):\n",
        "    return self.num1**self.num2\n",
        "  def floor(self):\n",
        "    return self.num1//self.num2\n"
      ]
    },
    {
      "cell_type": "code",
      "execution_count": null,
      "metadata": {
        "colab": {
          "base_uri": "https://localhost:8080/"
        },
        "id": "SV-OTC-4iz3l",
        "outputId": "8cc9c32c-baf2-403a-dcb6-076fe42bb25a"
      },
      "outputs": [
        {
          "name": "stdout",
          "output_type": "stream",
          "text": [
            "Enter the first number:1200\n",
            "Enter the second number:2300\n",
            "Addition: 3500\n"
          ]
        }
      ],
      "source": [
        "k=SimpleCalculator()\n",
        "print(\"Addition:\",k.add())"
      ]
    },
    {
      "cell_type": "code",
      "execution_count": null,
      "metadata": {
        "colab": {
          "base_uri": "https://localhost:8080/"
        },
        "id": "qPnoOipji6B9",
        "outputId": "8c31b679-3eee-4bac-cfad-0ad0816658eb"
      },
      "outputs": [
        {
          "name": "stdout",
          "output_type": "stream",
          "text": [
            "Enter the first number:233354\n",
            "Enter the second number:766736747\n",
            "addition: 766970101\n"
          ]
        }
      ],
      "source": [
        "r=SimpleCalculator()\n",
        "print(\"addition:\",r.add())"
      ]
    },
    {
      "cell_type": "code",
      "execution_count": null,
      "metadata": {
        "colab": {
          "base_uri": "https://localhost:8080/"
        },
        "id": "82UjfZENjHeu",
        "outputId": "651e874a-bcae-499a-898a-6ad416fdbe39"
      },
      "outputs": [
        {
          "name": "stdout",
          "output_type": "stream",
          "text": [
            "Enter the first number:100\n",
            "Enter the second number:12\n",
            "mul: 1200\n",
            "div: 8.333333333333334\n",
            "mod: 4\n",
            "power: 1000000000000000000000000\n",
            "floor: 8\n"
          ]
        }
      ],
      "source": [
        "t=SimpleCalculator()\n",
        "print(\"mul:\",t.mul())\n",
        "print(\"div:\",t.div())\n",
        "print(\"mod:\",t.mod())\n",
        "print(\"power:\",t.power())\n",
        "print(\"floor:\",t.floor())"
      ]
    },
    {
      "cell_type": "code",
      "execution_count": null,
      "metadata": {
        "id": "QQNOFZTBkpBt"
      },
      "outputs": [],
      "source": [
        "import random\n",
        "class BankAccount:\n",
        "  def __init__(self):\n",
        "    self.balance=0\n",
        "    self.name=input(\"Enter the name:\")\n",
        "    self.address=input(\"Enter the address:\")\n",
        "    self.phone_no=int(input(\"Enter the phone number:\"))\n",
        "    print(\"Account Created successfully\")\n",
        "  def deposit(self):\n",
        "    amount=int(input(\"Enter the amount to deposit:\"))\n",
        "    self.balance+=amount\n",
        "    print(\"Amount deposited successfully\")\n",
        "  def withdraw(self):\n",
        "    amount=int(input(\"Enter the amount to withdraw:\"))\n",
        "    if amount>self.balance:\n",
        "      print(\"Insufficient balance\")\n",
        "    else:\n",
        "      self.balance-=amount\n",
        "      print(\"Amount withdrawn successfully\")\n",
        "  def display(self):\n",
        "    self.account_no=BankAccount.genaccountno()\n",
        "    print(\"Name:\",self.name)\n",
        "    print(\"Account number:\",self.account_no)\n",
        "    print(\"Address:\",self.address)\n",
        "    print(\"Phone number:\",self.phone_no)\n",
        "    print(\"Balance:\",self.balance)\n",
        "  def transfer(self):\n",
        "    amount=int(input(\"Enter the amount to transfer:\"))\n",
        "    if amount>self.balance:\n",
        "      print(\"Insufficient balance\")\n",
        "    else:\n",
        "      self.balance-=amount\n",
        "      print(\"Amount transferred successfully\")\n",
        "  def check_balance(self):\n",
        "    self.accno=int(input(\"Enter the account number:\"))\n",
        "    if self.accno==self.account_no:\n",
        "      print(\"Balance:\",self.balance)\n",
        "  def update_address(self):\n",
        "    self.accno=int(input(\"Enter the account number:\"))\n",
        "    if self.accno==self.account_no:\n",
        "      self.address=input(\"Enter the new address:\")\n",
        "      print(\"Address updated successfully\")\n",
        "  def update_phone_no(self):\n",
        "    self.accno=int(input(\"Enter the account number:\"))\n",
        "    if self.accno==self.account_no:\n",
        "      self.phone_no=int(input(\"Enter the new phone number:\"))\n",
        "  def update_name(self):\n",
        "    self.accno=int(input(\"Enter the account number:\"))\n",
        "    if self.accno==self.account_no:\n",
        "      self.name=input(\"Enter the new name:\")\n",
        "      print(\"Name updated successfully\")\n",
        "  def genaccountno():\n",
        "    return random.randint(1000000000,9999999999)\n",
        "\n",
        "\n",
        "\n"
      ]
    },
    {
      "cell_type": "code",
      "execution_count": null,
      "metadata": {
        "id": "RIQW6Y_3fwYs"
      },
      "outputs": [],
      "source": [
        "#Hierarchical inheritence\n",
        "class SBI(BankAccount):\n",
        "  IFSC=\"SBI001\"        # static data member\n",
        "  Branch=\"Kohat Enclave\"\n",
        "  Rate_of_interest=8.5\n",
        "  def __init__(self):\n",
        "    super().__init__()\n",
        "    self.balance=0\n",
        "  def display(self):\n",
        "    super().display()\n",
        "    print(\"IFSC:\",self.IFSC)\n",
        "    print(\"Branch:\",self.Branch)\n",
        "    print(\"Rate of interest:\",self.Rate_of_interest)\n",
        "  def cal_interest(self):\n",
        "    interest=self.balance*self.Rate_of_interest/100\n",
        "    print(\"Interest:\",interest)\n",
        "\n",
        "\n"
      ]
    },
    {
      "cell_type": "code",
      "execution_count": null,
      "metadata": {
        "id": "Ea_G_nV-iB7X"
      },
      "outputs": [],
      "source": [
        "class SBIH(SBI):\n",
        "  IFSC=\"SBIH001\"\n",
        "  Branch=\"Burari\"\n",
        "  rate_of_interest=9.5\n",
        "  def __init__(self):\n",
        "    super().__init__()\n",
        "    self.balance=0\n",
        "  def display(self):\n",
        "    super().display()\n",
        "    print(\"IFSC:\",self.IFSC)\n",
        "    print(\"Branch:\",self.Branch)\n",
        "    print(\"Rate of interest:\",self.rate_of_interest)\n"
      ]
    },
    {
      "cell_type": "code",
      "execution_count": null,
      "metadata": {
        "id": "CmxsYd5uQTlt"
      },
      "outputs": [],
      "source": [
        "class SBIY(SBI):\n",
        "  IFSC=\"SBIY001\"\n",
        "  Branch=\"Delhi\"\n",
        "  rate_of_interest=10.5\n",
        "  def __init__(self):\n",
        "    super().__init__()\n",
        "    self.balance=0\n",
        "  def display(self):\n",
        "    super().display()\n",
        "    print(\"IFSC:\",self.IFSC)\n",
        "    print(\"Branch:\",self.Branch)\n",
        "    print(\"Rate of interest:\",self.rate_of_interest)"
      ]
    },
    {
      "cell_type": "code",
      "execution_count": null,
      "metadata": {
        "id": "tYidKdKGhovp"
      },
      "outputs": [],
      "source": [
        "class PNB(BankAccount):\n",
        "  IFSC=\"PNB001\"\n",
        "  Branch=\"Kohat Enclave\"\n",
        "  rate_of_interest=8.5\n",
        "  def __init__(self):\n",
        "    super().__init__()\n",
        "    self.balance=0\n",
        "  def display(self):\n",
        "    super().display()\n",
        "    print(\"IFSC:\",self.IFSC)\n",
        "    print(\"Branch:\",self.Branch)\n",
        "    print(\"Rate of interest:\",self.rate_of_interest)"
      ]
    },
    {
      "cell_type": "code",
      "execution_count": null,
      "metadata": {
        "id": "ljy9NMMeQHFX"
      },
      "outputs": [],
      "source": [
        "class AXIS(BankAccount):\n",
        "  IFSC=\"AXIS001\"\n",
        "  Branch=\"Kohat Enclave\"\n",
        "  rate_of_interest=8.5\n",
        "  def __init__(self):\n",
        "    super().__init__()\n",
        "    self.balance=0\n",
        "  def display(self):\n",
        "    super().display()\n",
        "    print(\"IFSC:\",self.IFSC)\n",
        "    print(\"Branch:\",self.Branch)\n",
        "    print(\"Rate of interest:\",self.rate_of_interest)"
      ]
    },
    {
      "cell_type": "code",
      "execution_count": null,
      "metadata": {
        "colab": {
          "base_uri": "https://localhost:8080/"
        },
        "id": "n2hkTV1BI5bi",
        "outputId": "3962a604-f723-4668-983e-f72958d64ad3"
      },
      "outputs": [
        {
          "name": "stdout",
          "output_type": "stream",
          "text": [
            "************WELCOME TO SBI BANK SYSTEM*****************\n",
            "1.Create Account\n",
            "2.Deposit\n",
            "3.Withdraw\n",
            "4.Display\n",
            "5.Transfer\n",
            "6.Exit\n",
            "Enter the option:1\n",
            "Enter the name:roshan\n",
            "Enter the address:delhi\n",
            "Enter the phone number:9878777\n",
            "Account Created successfully\n",
            "Name: roshan\n",
            "Account number: 2859549814\n",
            "Address: delhi\n",
            "Phone number: 9878777\n",
            "Balance: 0\n",
            "IFSC: SBI001\n",
            "Branch: Kohat Enclave\n",
            "Rate of interest: 8.5\n",
            "Enter the option:2\n",
            "Enter the amount to deposit:12000\n",
            "Amount deposited successfully\n",
            "Enter the option:4\n",
            "Name: roshan\n",
            "Account number: 4524593425\n",
            "Address: delhi\n",
            "Phone number: 9878777\n",
            "Balance: 12000\n",
            "IFSC: SBI001\n",
            "Branch: Kohat Enclave\n",
            "Rate of interest: 8.5\n",
            "Enter the option:6\n",
            "Thank you for using our system\n"
          ]
        }
      ],
      "source": [
        "\n",
        "menu=\"************WELCOME TO SBI BANK SYSTEM*****************\"\n",
        "menu+=\"\\n1.Create Account\\n2.Deposit\\n3.Withdraw\\n4.Display\\n5.Transfer\\n6.Exit\"\n",
        "\n",
        "\n",
        "print(menu)\n",
        "while True:\n",
        "  op=int(input(\"Enter the option:\"))\n",
        "  if op==1:\n",
        "    c2=SBI()\n",
        "    c2.display()\n",
        "  if op==2:\n",
        "    c2.deposit()\n",
        "  if op==3:\n",
        "    c2.withdraw()\n",
        "  if op==4:\n",
        "    c2.display()\n",
        "  if op==5:\n",
        "    c2.transfer()\n",
        "    c2.display()\n",
        "  if op==6:\n",
        "    print(\"Thank you for using our system\")\n",
        "    break\n",
        "\n",
        "\n"
      ]
    },
    {
      "cell_type": "code",
      "execution_count": null,
      "metadata": {
        "id": "ROvRuejRh68Y"
      },
      "outputs": [],
      "source": [
        "c2=PNB()\n",
        "c2.display()\n",
        "c2.deposit()\n",
        "c2.display()\n",
        "c2.withdraw()\n",
        "c2.display()\n",
        "c2.transfer()\n",
        "c2.display()"
      ]
    },
    {
      "cell_type": "markdown",
      "metadata": {
        "id": "CJNRRKdoneCH"
      },
      "source": []
    },
    {
      "cell_type": "code",
      "execution_count": null,
      "metadata": {
        "colab": {
          "base_uri": "https://localhost:8080/"
        },
        "id": "Y9-aSGTtnI7n",
        "outputId": "64b1fdd1-6c07-4c9e-fff8-937716f8a492"
      },
      "outputs": [
        {
          "name": "stdout",
          "output_type": "stream",
          "text": [
            "************BANK SYSTEM*****************\n",
            "1.Create Account\n",
            "2.Deposit\n",
            "3.Withdraw\n",
            "4.Display\n",
            "5.Transfer\n",
            "6.Exit\n",
            "****************************************\n",
            "Enter the option:6\n",
            "Thank you for using our system\n"
          ]
        }
      ],
      "source": [
        "menu=\"************BANK SYSTEM*****************\"\n",
        "menu+=\"\\n1.Create Account\\n2.Deposit\\n3.Withdraw\\n4.Display\\n5.Transfer\\n6.Exit\"\n",
        "\n",
        "print(menu)\n",
        "print(\"****************************************\")\n",
        "while True:\n",
        "  op=int(input(\"Enter the option:\"))\n",
        "  if op==1:\n",
        "    roshan=BankAccount()\n",
        "    roshan.display()\n",
        "  if op==2:\n",
        "    roshan.deposit()\n",
        "  if op==3:\n",
        "    roshan.withdraw()\n",
        "  if op==4:\n",
        "    roshan.display()\n",
        "  if op==5:\n",
        "    roshan.transfer()\n",
        "  if op==6:\n",
        "    print(\"Thank you for using our system\")\n",
        "    break"
      ]
    },
    {
      "cell_type": "code",
      "execution_count": null,
      "metadata": {
        "id": "EpDTvVPxl5T6"
      },
      "outputs": [],
      "source": [
        "class Item:\n",
        "  itemlist=[]\n",
        "  def __init__(self):\n",
        "    self.id=int(input(\"Enter the id:\"))\n",
        "    self.name=input(\"Enter the name:\")\n",
        "    self.price=int(input(\"Enter the price:\"))\n",
        "    self.quantity=int(input(\"Enter the quantity:\"))\n",
        "    t1=tuple((self.id,self.name,self.price,self.quantity))\n",
        "    self.itemlist.append(t1)\n",
        "    print(\"Item added successfully\")\n",
        "  def display(self):\n",
        "    # print(\"Id:\",self.id)\n",
        "    # print(\"Name:\",self.name)\n",
        "    # print(\"Price:\",self.price)\n",
        "    # print(\"Quantity:\",self.quantity)\n",
        "    print();\n",
        "    print(\"Item list:\")\n",
        "    for i in self.itemlist:\n",
        "      print(i)\n",
        "\n",
        "  def caltotal(self):\n",
        "    totalprice=0\n",
        "    t=0\n",
        "    for i in self.itemlist:\n",
        "      t=i[2]*i[3]\n",
        "      totalprice+=t\n",
        "    print(\"Total price:\",totalprice)\n",
        "    print(\"Thank you for shopping with us\")\n",
        "  def update(self):\n",
        "    self.id=int(input(\"Enter the id of the item to update:\"))\n",
        "    self.name=input(\"Enter the new name:\")\n",
        "    self.price=int(input(\"Enter the new price:\"))\n",
        "    self.quantity=int(input(\"Enter the new quantity:\"))\n",
        "    for i in self.itemlist:\n",
        "      if i[0]==self.id:\n",
        "        self.itemlist.remove(i)\n",
        "        t=(self.id,self.name,self.price,self.quantity)\n",
        "        self.itemlist.append(t)\n",
        "        break\n",
        "    else:\n",
        "      print(\"Item not found\")\n",
        "    print(\"Item updated successfully\")\n",
        "\n",
        "  def clear_items(self):\n",
        "    self.itemlist.clear()\n",
        "    print(\"Data cleared successfully\")\n",
        "    print(\"Thank you for shopping with us\")\n",
        "\n",
        "  def delitem(self):\n",
        "    self.id=int(input(\"Enter the id of the item to remove:\"))\n",
        "    for i in self.itemlist:\n",
        "      print(i)\n",
        "      if i[0]==self.id:\n",
        "        self.itemlist.remove(i)\n",
        "        print(\"Item removed successfully\")\n",
        "        break\n",
        "    else:\n",
        "      print(\"Item not found\")\n",
        "\n",
        "\n"
      ]
    },
    {
      "cell_type": "code",
      "execution_count": null,
      "metadata": {
        "id": "fIDhE8sRzO-k"
      },
      "outputs": [],
      "source": [
        "menu=\"************ITEM MANAGEMENT SYSTEM*****************\"\n",
        "menu+=\"\\n1.Add Item\\n2.Display Item\\n3.Calculate Total\\n4.Update Item\\n5.Remove item\\n6.Cleardata\\n7.Exit\"\n",
        "menu+=\"\\n**************************************************\"\n"
      ]
    },
    {
      "cell_type": "code",
      "execution_count": null,
      "metadata": {
        "colab": {
          "base_uri": "https://localhost:8080/"
        },
        "id": "50F-wUjB8NQW",
        "outputId": "092e7707-7982-4621-a26e-1b0c20ff1667"
      },
      "outputs": [
        {
          "name": "stdout",
          "output_type": "stream",
          "text": [
            "************ITEM MANAGEMENT SYSTEM*****************\n",
            "1.Add Item\n",
            "2.Display Item\n",
            "3.Calculate Total\n",
            "4.Update Item\n",
            "5.Remove item\n",
            "6.Cleardata\n",
            "7.Exit\n",
            "**************************************************\n",
            "Enter the option:1\n",
            "Enter the id:101\n",
            "Enter the name:pen\n",
            "Enter the price:120\n",
            "Enter the quantity:100\n",
            "Item added successfully\n",
            "Enter the option:2\n",
            "\n",
            "Item list:\n",
            "(101, 'pen', 120, 100)\n",
            "Enter the option:1\n",
            "Enter the id:102\n",
            "Enter the name:bag\n",
            "Enter the price:1290\n",
            "Enter the quantity:10\n",
            "Item added successfully\n",
            "Enter the option:2\n",
            "\n",
            "Item list:\n",
            "(101, 'pen', 120, 100)\n",
            "(102, 'bag', 1290, 10)\n",
            "Enter the option:3\n",
            "Total price: 24900\n",
            "Thank you for shopping with us\n",
            "Enter the option:4\n",
            "Enter the id of the item to update:101\n",
            "Enter the new name:marker\n",
            "Enter the new price:120\n",
            "Enter the new quantity:100\n",
            "Item updated successfully\n",
            "\n",
            "Item list:\n",
            "(102, 'bag', 1290, 10)\n",
            "(101, 'marker', 120, 100)\n",
            "Enter the option:2\n",
            "\n",
            "Item list:\n",
            "(102, 'bag', 1290, 10)\n",
            "(101, 'marker', 120, 100)\n",
            "Enter the option:5\n",
            "Enter the id of the item to remove:101\n",
            "(102, 'bag', 1290, 10)\n",
            "(101, 'marker', 120, 100)\n",
            "Item removed successfully\n",
            "\n",
            "Item list:\n",
            "(102, 'bag', 1290, 10)\n",
            "Enter the option:6\n",
            "Data cleared successfully\n",
            "Thank you for shopping with us\n",
            "Enter the option:7\n",
            "Thank you for using our system\n"
          ]
        }
      ],
      "source": [
        "print(menu)\n",
        "while True:\n",
        "  op=int(input(\"Enter the option:\"))\n",
        "  if op==1:\n",
        "    item1=Item()\n",
        "  if op==2:\n",
        "    item1.display()\n",
        "\n",
        "  if op==3:\n",
        "    item1.caltotal()\n",
        "  if op==4:\n",
        "    item1.update()\n",
        "    item1.display()\n",
        "\n",
        "  if op==5:\n",
        "    item1.delitem()\n",
        "    item1.display()\n",
        "  if op==6:\n",
        "    item1.clear_items()\n",
        "\n",
        "  if op==7:\n",
        "    print(\"Thank you for using our system\")\n",
        "    break"
      ]
    },
    {
      "cell_type": "code",
      "execution_count": null,
      "metadata": {
        "id": "1Yn8RjCry6O_"
      },
      "outputs": [],
      "source": []
    },
    {
      "cell_type": "code",
      "execution_count": null,
      "metadata": {
        "colab": {
          "base_uri": "https://localhost:8080/"
        },
        "id": "z_93I1MwyJfZ",
        "outputId": "f214316e-4dff-4892-d4ae-f1307a9976c9"
      },
      "outputs": [
        {
          "data": {
            "text/plain": [
              "[]"
            ]
          },
          "execution_count": 76,
          "metadata": {},
          "output_type": "execute_result"
        }
      ],
      "source": [
        "\n"
      ]
    },
    {
      "cell_type": "code",
      "execution_count": null,
      "metadata": {
        "id": "JBH4agpMKWHX"
      },
      "outputs": [],
      "source": [
        "# prompt: library management system using class\n",
        "\n",
        "class Library:\n",
        "  def __init__(self):  #constructor\n",
        "    self.books = []\n",
        "\n",
        "  def add_book(self):\n",
        "    title = input(\"Enter the title of the book: \")\n",
        "    author = input(\"Enter the author of the book: \")\n",
        "    self.books.append({\"title\": title, \"author\": author, \"available\": True})\n",
        "    print(\"Book added successfully!\")\n",
        "\n",
        "  def borrow_book(self):\n",
        "    title = input(\"Enter the title of the book you want to borrow: \")\n",
        "    for book in self.books:\n",
        "      if book[\"title\"] == title:\n",
        "        if book[\"available\"]:\n",
        "          book[\"available\"] = False\n",
        "          print(\"Book borrowed successfully!\")\n",
        "          return\n",
        "        else:\n",
        "          print(\"Sorry, the book is currently unavailable.\")\n",
        "          return\n",
        "    print(\"Book not found in the library.\")\n",
        "\n",
        "  def return_book(self):\n",
        "    title = input(\"Enter the title of the book you want to return: \")\n",
        "    for book in self.books:\n",
        "      if book[\"title\"] == title:\n",
        "        if not book[\"available\"]:\n",
        "          book[\"available\"] = True\n",
        "          print(\"Book returned successfully!\")\n",
        "          return\n",
        "        else:\n",
        "          print(\"This book was not borrowed from the library.\")\n",
        "          return\n",
        "    print(\"Book not found in the library.\")\n",
        "\n",
        "  def display_books(self):\n",
        "    if not self.books:\n",
        "      print(\"The library is currently empty.\")\n",
        "    else:\n",
        "      print(\"Available books:\")\n",
        "      for book in self.books:\n",
        "        if book[\"available\"]:\n",
        "          print(f\"- {book['title']} by {book['author']}\")\n",
        "\n",
        "library = Library()\n",
        "\n",
        "while True:\n",
        "  print(\"\\nLibrary Management System\")\n",
        "  print(\"1. Add book\")\n",
        "  print(\"2. Borrow book\")\n",
        "  print(\"3. Return book\")\n",
        "  print(\"4. Display available books\")\n",
        "  print(\"5. Exit\")\n",
        "\n",
        "  choice = input(\"Enter your choice: \")\n",
        "\n",
        "  if choice == '1':\n",
        "    library.add_book()\n",
        "  elif choice == '2':\n",
        "    library.borrow_book()\n",
        "  elif choice == '3':\n",
        "    library.return_book()\n",
        "  elif choice == '4':\n",
        "    library.display_books()\n",
        "  elif choice == '5':\n",
        "    print(\"Exiting the library system...\")\n",
        "    break\n",
        "  else:\n",
        "    print(\"Invalid choice. Please try again.\")\n"
      ]
    },
    {
      "cell_type": "code",
      "execution_count": null,
      "metadata": {
        "colab": {
          "background_save": true,
          "base_uri": "https://localhost:8080/"
        },
        "id": "XgC3UV0FICkP",
        "outputId": "8cc0b81f-e892-4232-b68e-6b0a269e8577"
      },
      "outputs": [
        {
          "name": "stdout",
          "output_type": "stream",
          "text": [
            "\n",
            "Phone Directory Management System\n",
            "1. Add contact\n",
            "2. Search contact\n",
            "3. Delete contact\n",
            "4. Display contacts\n",
            "5. Exit\n",
            "Contact added successfully!\n",
            "\n",
            "Phone Directory Management System\n",
            "1. Add contact\n",
            "2. Search contact\n",
            "3. Delete contact\n",
            "4. Display contacts\n",
            "5. Exit\n",
            "Contacts:\n",
            "- parth: 7667721712\n",
            "\n",
            "Phone Directory Management System\n",
            "1. Add contact\n",
            "2. Search contact\n",
            "3. Delete contact\n",
            "4. Display contacts\n",
            "5. Exit\n",
            "Contact added successfully!\n",
            "\n",
            "Phone Directory Management System\n",
            "1. Add contact\n",
            "2. Search contact\n",
            "3. Delete contact\n",
            "4. Display contacts\n",
            "5. Exit\n",
            "Contacts:\n",
            "- parth: 7667721712\n",
            "- sumit: 898676767\n",
            "\n",
            "Phone Directory Management System\n",
            "1. Add contact\n",
            "2. Search contact\n",
            "3. Delete contact\n",
            "4. Display contacts\n",
            "5. Exit\n",
            "Phone number for parth: 7667721712\n",
            "\n",
            "Phone Directory Management System\n",
            "1. Add contact\n",
            "2. Search contact\n",
            "3. Delete contact\n",
            "4. Display contacts\n",
            "5. Exit\n",
            "Contact deleted successfully!\n",
            "\n",
            "Phone Directory Management System\n",
            "1. Add contact\n",
            "2. Search contact\n",
            "3. Delete contact\n",
            "4. Display contacts\n",
            "5. Exit\n",
            "Contacts:\n",
            "- sumit: 898676767\n",
            "\n",
            "Phone Directory Management System\n",
            "1. Add contact\n",
            "2. Search contact\n",
            "3. Delete contact\n",
            "4. Display contacts\n",
            "5. Exit\n"
          ]
        }
      ],
      "source": [
        "# prompt: Phone directory management system\n",
        "\n",
        "class PhoneDirectory:\n",
        "  def __init__(self):\n",
        "    self.contacts = {}\n",
        "\n",
        "  def add_contact(self):\n",
        "    name = input(\"Enter the name: \")\n",
        "    number = input(\"Enter the phone number: \")\n",
        "    self.contacts[name] = number\n",
        "    print(\"Contact added successfully!\")\n",
        "\n",
        "  def search_contact(self):\n",
        "    name = input(\"Enter the name to search: \")\n",
        "    if name in self.contacts:\n",
        "      print(f\"Phone number for {name}: {self.contacts[name]}\")\n",
        "    else:\n",
        "      print(\"Contact not found.\")\n",
        "\n",
        "  def delete_contact(self):\n",
        "    name = input(\"Enter the name to delete: \")\n",
        "    if name in self.contacts:\n",
        "      del self.contacts[name]\n",
        "      print(\"Contact deleted successfully!\")\n",
        "    else:\n",
        "      print(\"Contact not found.\")\n",
        "\n",
        "  def display_contacts(self):\n",
        "    if not self.contacts:\n",
        "      print(\"The phone directory is empty.\")\n",
        "    else:\n",
        "      print(\"Contacts:\")\n",
        "      for name, number in self.contacts.items():\n",
        "        print(f\"- {name}: {number}\")\n",
        "\n",
        "phone_directory = PhoneDirectory()\n",
        "\n",
        "while True:\n",
        "  print(\"\\nPhone Directory Management System\")\n",
        "  print(\"1. Add contact\")\n",
        "  print(\"2. Search contact\")\n",
        "  print(\"3. Delete contact\")\n",
        "  print(\"4. Display contacts\")\n",
        "  print(\"5. Exit\")\n",
        "\n",
        "  choice = input(\"Enter your choice: \")\n",
        "\n",
        "  if choice == '1':\n",
        "    phone_directory.add_contact()\n",
        "  elif choice == '2':\n",
        "    phone_directory.search_contact()\n",
        "  elif choice == '3':\n",
        "    phone_directory.delete_contact()\n",
        "  elif choice == '4':\n",
        "    phone_directory.display_contacts()\n",
        "  elif choice == '5':\n",
        "    print(\"Exiting the phone directory system...\")\n",
        "    break\n",
        "  else:\n",
        "    print(\"Invalid choice. Please try again.\")\n"
      ]
    },
    {
      "cell_type": "code",
      "execution_count": null,
      "metadata": {
        "id": "-7hzY80A99Z8"
      },
      "outputs": [],
      "source": [
        "# Class Inheritence: Reusablity of code:\n",
        "# single Inheritence\n",
        "class Person:\n",
        "  def __init__(self):\n",
        "    self.id=int(input(\"Enter the id:\"))\n",
        "    self.name=input(\"Enter the name:\")\n",
        "    self.age=int(input(\"Enter the age:\"))\n",
        "    self.gender=input(\"Enter the gender:\")\n",
        "  def display(self):\n",
        "    print(\"Id:\",self.id)\n",
        "    print(\"Name:\",self.name)\n",
        "    print(\"Age:\",self.age)\n",
        "    print(\"Gender:\",self.gender)\n"
      ]
    },
    {
      "cell_type": "code",
      "execution_count": null,
      "metadata": {
        "id": "Rfe-NarvF69o"
      },
      "outputs": [],
      "source": [
        "class Employee(Person): # single inheritence\n",
        "  def __init__(self):\n",
        "    super().__init__()\n",
        "    self.salary=int(input(\"Enter the salary:\"))\n",
        "    self.designation=input(\"Enter the designation:\")\n",
        "    self.company=input(\"Enter the company:\")\n",
        "  def display(self):\n",
        "    super().display()\n",
        "    print(\"Salary:\",self.salary)\n",
        "    print(\"Designation:\",self.designation)\n",
        "    print(\"Company:\",self.company)\n",
        "  def bonus(self):\n",
        "    bonus=self.salary*0.1\n",
        "    print(\"Bonus:\",bonus)\n",
        "  def allowance(self):\n",
        "    hra=self.salary*0.2\n",
        "    da=self.salary*0.1\n",
        "    allowance=hra+da\n",
        "    print(\"HRA:\",hra)\n",
        "    print(\"DA:\",da)\n",
        "    print(\"Allowance:\",allowance)\n",
        "    print(\"Total salary:\",self.salary+allowance)\n"
      ]
    },
    {
      "cell_type": "code",
      "execution_count": null,
      "metadata": {
        "colab": {
          "base_uri": "https://localhost:8080/"
        },
        "id": "E_1OXxYLHEnd",
        "outputId": "0d60a096-21e7-4654-ec7c-8ec54647c14f"
      },
      "outputs": [
        {
          "name": "stdout",
          "output_type": "stream",
          "text": [
            "Enter the id:101\n",
            "Enter the name:roshan\n",
            "Enter the age:23\n",
            "Enter the gender:45000\n",
            "Enter the salary:45000\n",
            "Enter the designation:DA\n",
            "Enter the company:google\n",
            "Id: 101\n",
            "Name: roshan\n",
            "Age: 23\n",
            "Gender: 45000\n",
            "Salary: 45000\n",
            "Designation: DA\n",
            "Company: google\n",
            "Bonus: 4500.0\n",
            "HRA: 9000.0\n",
            "DA: 4500.0\n",
            "Allowance: 13500.0\n",
            "Total salary: 58500.0\n"
          ]
        }
      ],
      "source": [
        "#main()\n",
        "emp1=Employee()\n",
        "emp1.display()\n",
        "emp1.bonus()\n",
        "emp1.allowance()"
      ]
    },
    {
      "cell_type": "code",
      "execution_count": null,
      "metadata": {
        "id": "554zguE3fRjJ"
      },
      "outputs": [],
      "source": [
        "#multilevel inheritence\n",
        "class students:\n",
        "  def __init__(self):\n",
        "    self.name=input(\"Enter the name:\")\n",
        "    self.rollno=int(input(\"Enter the rollno:\"))\n",
        "    self.course=input(\"Enter the course:\")\n",
        "  def display(self):\n",
        "    print(\"Name:\",self.name)\n",
        "    print(\"Rollno:\",self.rollno)\n",
        "    print(\"Course:\",self.course)\n"
      ]
    },
    {
      "cell_type": "code",
      "execution_count": null,
      "metadata": {
        "id": "pYhyuzkYfSda"
      },
      "outputs": [],
      "source": [
        "class Exam(students):\n",
        "  def __init__(self):\n",
        "    super().__init__()\n",
        "    self.marks=[]\n",
        "    for i in range(5):\n",
        "      self.marks.append(int(input(\"Enter the marks:\")))\n",
        "\n",
        "  def display(self):\n",
        "    super().display()\n",
        "    print(\"Marks:\",self.marks)\n"
      ]
    },
    {
      "cell_type": "code",
      "execution_count": null,
      "metadata": {
        "id": "HlZMqju8fSiG"
      },
      "outputs": [],
      "source": [
        "class Result(Exam):\n",
        "  def __init__(self):\n",
        "    super().__init__()\n",
        "    self.total=sum(self.marks)\n",
        "\n",
        "  def display(self):\n",
        "    super().display()\n",
        "    print(\"Total:\",self.total)\n",
        "  def Grade(self):\n",
        "    if self.total>=400:\n",
        "      print(\"Grade:A\")\n",
        "    elif self.total>=300:\n",
        "      print(\"Grade:B\")\n",
        "    elif self.total>=200:\n",
        "      print(\"Grade:C\")\n",
        "    elif self.total>=100:\n",
        "      print(\"Grade:D\")\n",
        "    else:\n",
        "      print(\"Grade:Fail\")"
      ]
    },
    {
      "cell_type": "code",
      "execution_count": null,
      "metadata": {
        "colab": {
          "base_uri": "https://localhost:8080/"
        },
        "id": "jVaqwCCdfSle",
        "outputId": "76d4683c-8859-4cd2-a7cd-b53422581a28"
      },
      "outputs": [
        {
          "name": "stdout",
          "output_type": "stream",
          "text": [
            "Enter the name:Sumit\n",
            "Enter the rollno:12345\n",
            "Enter the course:BBA\n",
            "Enter the marks:66\n",
            "Enter the marks:77\n",
            "Enter the marks:88\n",
            "Enter the marks:69\n",
            "Enter the marks:90\n",
            "Name: Sumit\n",
            "Rollno: 12345\n",
            "Course: BBA\n",
            "Marks: [66, 77, 88, 69, 90]\n",
            "Total: 390\n",
            "Grade:B\n"
          ]
        }
      ],
      "source": [
        "sumit=Result()\n",
        "sumit.display()\n",
        "sumit.Grade()"
      ]
    },
    {
      "cell_type": "code",
      "execution_count": null,
      "metadata": {
        "id": "LEd8-S0pfSok"
      },
      "outputs": [],
      "source": [
        "#multiple inheritence\n",
        "class Person:\n",
        "  def __init__(self):\n",
        "    self.name=input(\"Enter the name:\")\n",
        "    self.age=int(input(\"Enter the age:\"))\n",
        "    self.gender=input(\"Enter the gender:\")"
      ]
    },
    {
      "cell_type": "code",
      "execution_count": null,
      "metadata": {
        "id": "zrbvKSrAfSrw"
      },
      "outputs": [],
      "source": [
        "class Employee:\n",
        "  def __init__(self):\n",
        "    self.salary=int(input(\"Enter the salary:\"))\n",
        "    self.designation=input(\"Enter the designation:\")\n",
        "    self.company=input(\"Enter the company:\")"
      ]
    },
    {
      "cell_type": "code",
      "execution_count": null,
      "metadata": {
        "id": "l00fg_XWfSvG"
      },
      "outputs": [],
      "source": [
        "class Manager(Person,Employee):\n",
        "  def __init__(self):\n",
        "    Person.__init__(self)\n",
        "    Employee.__init__(self)\n",
        "  def display(self):\n",
        "    print(\"Name:\",self.name)\n",
        "    print(\"Age:\",self.age)\n",
        "    print(\"Gender:\",self.gender)\n",
        "    print(\"Salary:\",self.salary)\n",
        "    print(\"Designation:\",self.designation)\n",
        "    print(\"Company:\",self.company)\n",
        "  def bonus(self):\n",
        "    bonus=self.salary*0.1\n",
        "    print(\"Bonus:\",bonus)\n",
        "  def allowance(self):\n",
        "    hra=self.salary*0.2\n",
        "    da=self.salary*0.1\n",
        "    epf=self.salary*0.12\n",
        "\n",
        "    allowance=hra+da\n",
        "    print(\"HRA:\",hra)\n",
        "    print(\"DA:\",da)\n",
        "    print(\"EPF:\",epf)\n",
        "    print(\"Allowance:\",allowance)\n",
        "    print(\"Total salary:\",self.salary+allowance-epf)"
      ]
    },
    {
      "cell_type": "code",
      "execution_count": null,
      "metadata": {
        "colab": {
          "base_uri": "https://localhost:8080/"
        },
        "id": "PKRpmC82fSyP",
        "outputId": "5752f311-a62d-4566-b7ef-e6a71e2f9a22"
      },
      "outputs": [
        {
          "name": "stdout",
          "output_type": "stream",
          "text": [
            "Enter the name:Roshan\n",
            "Enter the age:23\n",
            "Enter the gender:male\n",
            "Enter the salary:45000\n",
            "Enter the designation:Manager\n",
            "Enter the company:tgc\n",
            "Name: Roshan\n",
            "Age: 23\n",
            "Gender: male\n",
            "Salary: 45000\n",
            "Designation: Manager\n",
            "Company: tgc\n",
            "Bonus: 4500.0\n",
            "HRA: 9000.0\n",
            "DA: 4500.0\n",
            "EPF: 5400.0\n",
            "Allowance: 13500.0\n",
            "Total salary: 53100.0\n"
          ]
        }
      ],
      "source": [
        "manager1=Manager()\n",
        "manager1.display()\n",
        "manager1.bonus()\n",
        "manager1.allowance()\n"
      ]
    },
    {
      "cell_type": "code",
      "execution_count": null,
      "metadata": {
        "colab": {
          "base_uri": "https://localhost:8080/"
        },
        "id": "QP101PZSVOCf",
        "outputId": "a60b209c-8ffb-443b-ac0f-a75061646ce8"
      },
      "outputs": [
        {
          "name": "stdout",
          "output_type": "stream",
          "text": [
            "\n",
            "School Management System\n",
            "1. Add student\n",
            "2. Add teacher\n",
            "3. Display students\n",
            "4. Display teachers\n",
            "5. Mark student attendance\n",
            "6. Get student attendance\n",
            "7. Exit\n",
            "Enter your choice: 1\n",
            "Enter student name: sumit\n",
            "Enter roll number: 101\n",
            "Enter grade: a\n",
            "Enter section: d\n",
            "Student added successfully!\n",
            "\n",
            "School Management System\n",
            "1. Add student\n",
            "2. Add teacher\n",
            "3. Display students\n",
            "4. Display teachers\n",
            "5. Mark student attendance\n",
            "6. Get student attendance\n",
            "7. Exit\n",
            "Enter your choice: 7\n",
            "Exiting the school management system...\n"
          ]
        }
      ],
      "source": [
        "# prompt: school management system\n",
        "\n",
        "class Student:\n",
        "  def __init__(self, name, roll_no, grade, section):\n",
        "    self.name = name\n",
        "    self.roll_no = roll_no\n",
        "    self.grade = grade\n",
        "    self.section = section\n",
        "    self.attendance = {}  # To store attendance records\n",
        "\n",
        "  def display_info(self):\n",
        "    print(\"Name:\", self.name)\n",
        "    print(\"Roll No:\", self.roll_no)\n",
        "    print(\"Grade:\", self.grade)\n",
        "    print(\"Section:\", self.section)\n",
        "\n",
        "  def mark_attendance(self, date, status):\n",
        "    self.attendance[date] = status\n",
        "\n",
        "  def get_attendance(self):\n",
        "    return self.attendance\n",
        "\n",
        "class Teacher:\n",
        "  def __init__(self, name, subject):\n",
        "    self.name = name\n",
        "    self.subject = subject\n",
        "\n",
        "  def display_info(self):\n",
        "    print(\"Name:\", self.name)\n",
        "    print(\"Subject:\", self.subject)\n",
        "\n",
        "class School:\n",
        "  def __init__(self, name):\n",
        "    self.name = name\n",
        "    self.students = []\n",
        "    self.teachers = []\n",
        "\n",
        "  def add_student(self):\n",
        "    name = input(\"Enter student name: \")\n",
        "    roll_no = int(input(\"Enter roll number: \"))\n",
        "    grade = input(\"Enter grade: \")\n",
        "    section = input(\"Enter section: \")\n",
        "    student = Student(name, roll_no, grade, section)\n",
        "    self.students.append(student)\n",
        "    print(\"Student added successfully!\")\n",
        "\n",
        "  def add_teacher(self):\n",
        "    name = input(\"Enter teacher name: \")\n",
        "    subject = input(\"Enter subject: \")\n",
        "    teacher = Teacher(name, subject)\n",
        "    self.teachers.append(teacher)\n",
        "    print(\"Teacher added successfully!\")\n",
        "\n",
        "  def display_students(self):\n",
        "    if not self.students:\n",
        "      print(\"No students in the school yet.\")\n",
        "    else:\n",
        "      print(\"Students:\")\n",
        "      for student in self.students:\n",
        "        student.display_info()\n",
        "        print(\"-\" * 20)\n",
        "\n",
        "  def display_teachers(self):\n",
        "    if not self.teachers:\n",
        "      print(\"No teachers in the school yet.\")\n",
        "    else:\n",
        "      print(\"Teachers:\")\n",
        "      for teacher in self.teachers:\n",
        "        teacher.display_info()\n",
        "        print(\"-\" * 20)\n",
        "\n",
        "  def mark_student_attendance(self):\n",
        "    roll_no = int(input(\"Enter roll number of student: \"))\n",
        "    date = input(\"Enter date (YYYY-MM-DD): \")\n",
        "    status = input(\"Enter status (Present/Absent): \")\n",
        "    for student in self.students:\n",
        "      if student.roll_no == roll_no:\n",
        "        student.mark_attendance(date, status)\n",
        "        print(\"Attendance marked successfully!\")\n",
        "        return\n",
        "    print(\"Student not found.\")\n",
        "\n",
        "  def get_student_attendance(self):\n",
        "    roll_no = int(input(\"Enter roll number of student: \"))\n",
        "    for student in self.students:\n",
        "      if student.roll_no == roll_no:\n",
        "        attendance = student.get_attendance()\n",
        "        if attendance:\n",
        "          print(\"Attendance for\", student.name)\n",
        "          for date, status in attendance.items():\n",
        "            print(date, \":\", status)\n",
        "        else:\n",
        "          print(\"No attendance records found for this student.\")\n",
        "        return\n",
        "    print(\"Student not found.\")\n",
        "\n",
        "# Example usage:\n",
        "school = School(\"My School\")\n",
        "\n",
        "while True:\n",
        "  print(\"\\nSchool Management System\")\n",
        "  print(\"1. Add student\")\n",
        "  print(\"2. Add teacher\")\n",
        "  print(\"3. Display students\")\n",
        "  print(\"4. Display teachers\")\n",
        "  print(\"5. Mark student attendance\")\n",
        "  print(\"6. Get student attendance\")\n",
        "  print(\"7. Exit\")\n",
        "\n",
        "  choice = input(\"Enter your choice: \")\n",
        "\n",
        "  if choice == '1':\n",
        "    school.add_student()\n",
        "  elif choice == '2':\n",
        "    school.add_teacher()\n",
        "  elif choice == '3':\n",
        "    school.display_students()\n",
        "  elif choice == '4':\n",
        "    school.display_teachers()\n",
        "  elif choice == '5':\n",
        "    school.mark_student_attendance()\n",
        "  elif choice == '6':\n",
        "    school.get_student_attendance()\n",
        "  elif choice == '7':\n",
        "    print(\"Exiting the school management system...\")\n",
        "    break\n",
        "  else:\n",
        "    print(\"Invalid choice. Please try again.\")\n"
      ]
    },
    {
      "cell_type": "code",
      "execution_count": null,
      "metadata": {
        "id": "MkQ4B2_0dguq"
      },
      "outputs": [],
      "source": [
        "class adder():\n",
        "  def __init__(self):\n",
        "    self.a=int(input(\"enter a\"))\n",
        "    self.b=int(input(\"enter b\"))\n",
        "  def add(self):\n",
        "    return self.a+self.b"
      ]
    },
    {
      "cell_type": "code",
      "execution_count": null,
      "metadata": {
        "id": "zSJESRqcdkxx"
      },
      "outputs": [],
      "source": [
        "class subber():\n",
        "  def __init__(self):\n",
        "    self.a=int(input(\"enter a\"))\n",
        "    self.b=int(input(\"enter b\"))\n",
        "  def sub(self):\n",
        "    return self.a-self.b"
      ]
    },
    {
      "cell_type": "code",
      "execution_count": null,
      "metadata": {
        "id": "twEh0QjAdk1-"
      },
      "outputs": [],
      "source": [
        "class mutiplyer():\n",
        "  def __init__(self):\n",
        "    self.a=int(input(\"enter a\"))\n",
        "    self.b=int(input(\"enter b\"))\n",
        "  def mutiply(self):\n",
        "    return self.a*self.b"
      ]
    },
    {
      "cell_type": "code",
      "execution_count": null,
      "metadata": {
        "id": "kkN7pGQVdk5Z"
      },
      "outputs": [],
      "source": [
        "class divider():\n",
        "  def __init__(self):\n",
        "    self.a=int(input(\"enter a\"))\n",
        "    self.b=int(input(\"enter b\"))\n",
        "  def divide(self):\n",
        "    return self.a/self.b\n"
      ]
    },
    {
      "cell_type": "code",
      "execution_count": null,
      "metadata": {
        "id": "vuzfO6qWdk9u"
      },
      "outputs": [],
      "source": [
        "class calculator(adder,subber,mutiplyer,divider):\n",
        "  def __init__(self):\n",
        "    super().__init__()\n",
        "    print(super().add())\n",
        "    print(super().sub())\n",
        "    print(super().mutiply())\n",
        "    print(super().divide())"
      ]
    },
    {
      "cell_type": "code",
      "execution_count": null,
      "metadata": {
        "id": "HGv8Yl6qdlAq"
      },
      "outputs": [],
      "source": [
        "cal=calculator()"
      ]
    },
    {
      "cell_type": "code",
      "execution_count": null,
      "metadata": {
        "colab": {
          "base_uri": "https://localhost:8080/"
        },
        "id": "4V9Pwd7kdlEC",
        "outputId": "aa02287d-39ad-4456-a91d-3844377c067f"
      },
      "outputs": [
        {
          "name": "stdout",
          "output_type": "stream",
          "text": [
            "999\n",
            "price is  1299.99\n"
          ]
        }
      ],
      "source": [
        "# exception handling\n",
        "# try except finally raise assert\n",
        "y=999\n",
        "try:\n",
        "  print(y)\n",
        "except:\n",
        "  print(\" y is not defined\")\n",
        "price=1299.99\n",
        "print(\"price is \",price)\n"
      ]
    },
    {
      "cell_type": "code",
      "execution_count": null,
      "metadata": {
        "colab": {
          "base_uri": "https://localhost:8080/"
        },
        "id": "xINDolz10r23",
        "outputId": "97321906-8887-43c0-b759-6fa6860421eb"
      },
      "outputs": [
        {
          "name": "stdout",
          "output_type": "stream",
          "text": [
            "Hello India\n",
            "x is defined\n",
            "Hello India\n",
            "price is  234.99\n"
          ]
        }
      ],
      "source": [
        "x=\"Hello India\"\n",
        "try:\n",
        "  print(x)\n",
        "except:\n",
        "  print(\"x is not defined\")\n",
        "else:\n",
        "  print(\"x is defined\")\n",
        "  print(x)\n",
        "price=234.99\n",
        "print(\"price is \",price)"
      ]
    },
    {
      "cell_type": "code",
      "execution_count": null,
      "metadata": {
        "colab": {
          "base_uri": "https://localhost:8080/"
        },
        "id": "IJT56-Ohilg8",
        "outputId": "c6d9f413-bd18-4747-f372-514a6b184823"
      },
      "outputs": [
        {
          "name": "stdout",
          "output_type": "stream",
          "text": [
            "enter a number5\n",
            "enter a number2\n",
            "Zero Division Error \n",
            "Good morning India\n"
          ]
        }
      ],
      "source": [
        "try:\n",
        "  x=int(input(\"enter a number\"))\n",
        "  y=int(input(\"enter a number\"))\n",
        "  r=Div(x,y)\n",
        "except:\n",
        "  print(\"Zero Division Error \")\n",
        "else:\n",
        " print(\"result is\",r)\n",
        "\n",
        "print(\"Good morning India\")"
      ]
    },
    {
      "cell_type": "code",
      "execution_count": 9,
      "metadata": {
        "colab": {
          "base_uri": "https://localhost:8080/"
        },
        "id": "ntxsUHk5jNp3",
        "outputId": "212c9d3d-dd10-469b-a3cc-13130121dbff"
      },
      "outputs": [
        {
          "output_type": "execute_result",
          "data": {
            "text/plain": [
              "56"
            ]
          },
          "metadata": {},
          "execution_count": 9
        }
      ],
      "source": [
        "def add(a,b):\n",
        "  return str(a) + str(b)\n",
        "def sub(a,b):\n",
        "  return a-b\n",
        "\n",
        "\n",
        "add(78,'h')\n",
        "sub(89,33)"
      ]
    },
    {
      "cell_type": "code",
      "execution_count": null,
      "metadata": {
        "colab": {
          "base_uri": "https://localhost:8080/"
        },
        "id": "nxkk5DV_jxg6",
        "outputId": "bda72280-9a9b-45d9-98d3-4e567826d78e"
      },
      "outputs": [
        {
          "name": "stdout",
          "output_type": "stream",
          "text": [
            "enter a100\n",
            "enter bkirtika\n",
            "Invalid input unsupported types\n"
          ]
        }
      ],
      "source": [
        "try:\n",
        "  a=int(input(\"enter a\"))\n",
        "  b=int(input(\"enter b\"))\n",
        "  r1=add(a,b)\n",
        "  r2=sub(a,b)\n",
        "\n",
        "except:\n",
        "  print(\"Invalid input unsupported types\")\n",
        "else:\n",
        "  print(r1,r2)\n"
      ]
    },
    {
      "cell_type": "code",
      "execution_count": null,
      "metadata": {
        "colab": {
          "base_uri": "https://localhost:8080/"
        },
        "id": "vBWOMhqKkyix",
        "outputId": "ef094e18-8cd9-4802-831a-46d263118143"
      },
      "outputs": [
        {
          "output_type": "stream",
          "name": "stdout",
          "text": [
            "[11, 13, 15, 12, 2, 66, 56, 23, 12, 100]\n",
            "11\n",
            "66\n",
            "100\n",
            "index out of range\n",
            "[11, 13, 15, 12, 1000, 66, 56, 23, 12, 100]\n"
          ]
        }
      ],
      "source": [
        "num=[11,13,15,12,2,66,56,23,12,100]\n",
        "print(num)\n",
        "print(num[0])\n",
        "print(num[5])\n",
        "print(num[-1])\n",
        "\n",
        "try:\n",
        "  print(num[11])\n",
        "  num[10]=199\n",
        "except:\n",
        "  print(\"index out of range\")\n",
        "\n",
        "num[4]=1000\n",
        "print(num)"
      ]
    },
    {
      "cell_type": "code",
      "execution_count": null,
      "metadata": {
        "colab": {
          "base_uri": "https://localhost:8080/"
        },
        "id": "wFeScUGnmSmr",
        "outputId": "2370ed9f-b0c3-40aa-b462-c97a35bbc2b2"
      },
      "outputs": [
        {
          "name": "stdout",
          "output_type": "stream",
          "text": [
            "{'code': 101, 'title': 'Python', 'Price': 577.99, 'Author': 'Monty Python'}\n",
            "101\n",
            "Python\n",
            "577.99\n",
            "Monty Python\n",
            "{'brand': 'BMW', 'model': 'Mustang', 'year': 1964, 'color': 'red'}\n",
            "key not found\n",
            "key not found\n",
            "End of program\n"
          ]
        }
      ],
      "source": [
        "book={\"code\":101,\"title\":\"Python\",\"Price\":577.99,\"Author\":\"Monty Python\"}\n",
        "car={\"brand\":\"BMW\",\"model\":\"Mustang\",\"year\":1964,\"color\":\"red\"}\n",
        "print(book)\n",
        "print(book[\"code\"])\n",
        "print(book[\"title\"])\n",
        "print(book[\"Price\"])\n",
        "print(book[\"Author\"])\n",
        "print(car)\n",
        "\n",
        "\n",
        "try:\n",
        "  print(book[\"year\"])\n",
        "except:\n",
        "  print(\"key not found\")\n",
        "\n",
        "\n",
        "try:\n",
        "  print(car[\"price\"])\n",
        "  print(car[\"brand\"])\n",
        "  print(car[\"model\"])\n",
        "  print(car[\"year\"])\n",
        "  print(car[\"color\"])\n",
        "\n",
        "except:\n",
        "  print(\"key not found\")\n",
        "finally:\n",
        "  print(\"End of program\")\n",
        "\n",
        "\n"
      ]
    },
    {
      "cell_type": "code",
      "execution_count": null,
      "metadata": {
        "colab": {
          "base_uri": "https://localhost:8080/"
        },
        "id": "xghKqWr3ocZS",
        "outputId": "3cda61ea-590e-4ce5-c01e-edd057b6f3ae"
      },
      "outputs": [
        {
          "name": "stdout",
          "output_type": "stream",
          "text": [
            "Can't divide by zero\n",
            "This is always executed\n"
          ]
        }
      ],
      "source": [
        "try:\n",
        "\tk = 5//0 # raises divide by zero exception.\n",
        "\tprint(k)\n",
        "\n",
        "except ZeroDivisionError:\n",
        "\tprint(\"Can't divide by zero\")\n",
        "\n",
        "finally:\n",
        "\tprint('This is always executed')\n"
      ]
    },
    {
      "cell_type": "code",
      "execution_count": null,
      "metadata": {
        "id": "vIO2Ng7LosPC"
      },
      "outputs": [],
      "source": [
        "def sical(p,r,t):\n",
        "  si=(p*r*t)/100\n",
        "  return si"
      ]
    },
    {
      "cell_type": "code",
      "execution_count": null,
      "metadata": {
        "colab": {
          "base_uri": "https://localhost:8080/"
        },
        "id": "jn44D4axoxW4",
        "outputId": "0ec4380c-0545-4ee9-d727-5e541e24908b"
      },
      "outputs": [
        {
          "output_type": "stream",
          "name": "stdout",
          "text": [
            "400.0\n"
          ]
        }
      ],
      "source": [
        "si=sical(2000,10,2)\n",
        "print(si)"
      ]
    },
    {
      "source": [
        "class Bike:\n",
        "  def __init__(self):\n",
        "    self.brand='Honda'\n",
        "    self.model='CBR'\n",
        "    self.year=2022\n",
        "    self.color='Red'\n",
        "    self.price=100000\n",
        "    self.max_speed = 250\n",
        "  def display(self):\n",
        "    print(\"Brand:\",self.brand)\n",
        "    print(\"Model:\",self.model)\n",
        "    print(\"Year:\",self.year)\n",
        "    print(\"Color:\",self.color)\n",
        "    print(\"Price:\",self.price)\n",
        "    print(\"Bike highest speed\",self.max_speed)"
      ],
      "cell_type": "code",
      "metadata": {
        "id": "xTB1iHt_TPOa"
      },
      "execution_count": 6,
      "outputs": []
    },
    {
      "cell_type": "code",
      "source": [
        "b1=Bike()\n",
        "b1.display()"
      ],
      "metadata": {
        "colab": {
          "base_uri": "https://localhost:8080/"
        },
        "id": "EFQwLeDmTc3k",
        "outputId": "455a4eea-9386-469d-a113-b3d52e77ab86"
      },
      "execution_count": 7,
      "outputs": [
        {
          "output_type": "stream",
          "name": "stdout",
          "text": [
            "Brand: Honda\n",
            "Model: CBR\n",
            "Year: 2022\n",
            "Color: Red\n",
            "Price: 100000\n",
            "Bike highest speed 250\n"
          ]
        }
      ]
    },
    {
      "cell_type": "code",
      "execution_count": null,
      "metadata": {
        "colab": {
          "base_uri": "https://localhost:8080/"
        },
        "id": "TId_eW74pw9R",
        "outputId": "6e269a6e-0088-4a6b-8665-1f74b69238df"
      },
      "outputs": [
        {
          "output_type": "stream",
          "name": "stdout",
          "text": [
            "Brand: Honda\n",
            "Model: CBR\n",
            "Year: 2022\n",
            "Color: Red\n",
            "Price: 100000\n",
            " Bike has no such attribute \n",
            "thank you for using my app\n"
          ]
        }
      ],
      "source": [
        "try:\n",
        "  mybike=Bike()\n",
        "  mybike.display()\n",
        "except:\n",
        "  print(\" Bike has no such attribute \")\n",
        "finally:\n",
        "  print(\"thank you for using my app\")\n"
      ]
    },
    {
      "cell_type": "code",
      "execution_count": null,
      "metadata": {
        "colab": {
          "base_uri": "https://localhost:8080/"
        },
        "id": "xzsNDNR7qk-N",
        "outputId": "6371a6e0-2071-4534-fe7c-fa949d99f622"
      },
      "outputs": [
        {
          "output_type": "stream",
          "name": "stdout",
          "text": [
            "3.141592653589793\n",
            "5.0\n",
            "thank you for using my app\n"
          ]
        }
      ],
      "source": [
        "import math as m1\n",
        "try:\n",
        "  print(m1.pi)\n",
        "  print(m1.sqrt(25))\n",
        "except:\n",
        "  print(\"module not found\")\n",
        "finally:\n",
        "  print(\"thank you for using my app\")"
      ]
    },
    {
      "cell_type": "code",
      "execution_count": 2,
      "metadata": {
        "colab": {
          "base_uri": "https://localhost:8080/"
        },
        "id": "1y-DZB_grd_j",
        "outputId": "ef09a437-c8ed-4205-b904-1ee746b0ef2f"
      },
      "outputs": [
        {
          "output_type": "stream",
          "name": "stdout",
          "text": [
            "Collecting camelcase\n",
            "  Downloading camelcase-0.2.tar.gz (1.3 kB)\n",
            "  Preparing metadata (setup.py) ... \u001b[?25l\u001b[?25hdone\n",
            "Building wheels for collected packages: camelcase\n",
            "  Building wheel for camelcase (setup.py) ... \u001b[?25l\u001b[?25hdone\n",
            "  Created wheel for camelcase: filename=camelcase-0.2-py3-none-any.whl size=1773 sha256=23a988d9de9c2ff97158c59027d6725ab4dfd7037737e9a9b3e7fe626a152a27\n",
            "  Stored in directory: /root/.cache/pip/wheels/89/69/2b/bb16b6766a74942bfbd1e0db55e3c0f3d80c3463ad6b4dc4d4\n",
            "Successfully built camelcase\n",
            "Installing collected packages: camelcase\n",
            "Successfully installed camelcase-0.2\n"
          ]
        }
      ],
      "source": [
        "!pip install camelcase"
      ]
    },
    {
      "cell_type": "code",
      "execution_count": 3,
      "metadata": {
        "colab": {
          "base_uri": "https://localhost:8080/"
        },
        "id": "T_xsposxrswj",
        "outputId": "ac8b8d47-3571-422a-8615-20d64c1f828e"
      },
      "outputs": [
        {
          "output_type": "stream",
          "name": "stdout",
          "text": [
            "Hello World\n",
            "['CamelCase', '__builtins__', '__cached__', '__doc__', '__file__', '__loader__', '__name__', '__package__', '__path__', '__spec__', 'main']\n"
          ]
        }
      ],
      "source": [
        "import camelcase\n",
        "\n",
        "c = camelcase.CamelCase()\n",
        "\n",
        "txt = \"hello world\"\n",
        "\n",
        "print(c.hump(txt))\n",
        "\n",
        "print(dir(camelcase))\n",
        "\n"
      ]
    },
    {
      "cell_type": "code",
      "execution_count": null,
      "metadata": {
        "colab": {
          "base_uri": "https://localhost:8080/"
        },
        "id": "ZOrbF8aQsetL",
        "outputId": "da4b3479-f8f2-426f-ef4d-6788bc14e212"
      },
      "outputs": [
        {
          "name": "stdout",
          "output_type": "stream",
          "text": [
            "{\"code\":101,\"title\":\"Python\",\"Price\":577.99,\"Author\":\"Monty Python\"}\n",
            "\n",
            "<class 'str'>\n",
            "{'code': 101, 'title': 'Python', 'Price': 577.99, 'Author': 'Monty Python'}\n",
            "<class 'dict'>\n",
            "101\n",
            "Python\n",
            "577.99\n",
            "Monty Python\n"
          ]
        }
      ],
      "source": [
        "# Read Json File and Convert it into python\n",
        "\n",
        "book='{\"code\":101,\"title\":\"Python\",\"Price\":577.99,\"Author\":\"Monty Python\"}'\n",
        "print(book)\n",
        "\n",
        "print()\n",
        "print(type(book))\n",
        "\n",
        "import json\n",
        "book_dict=json.loads(book)\n",
        "\n",
        "print(book_dict)\n",
        "print(type(book_dict))\n",
        "print(book_dict[\"code\"])\n",
        "print(book_dict[\"title\"])\n",
        "print(book_dict[\"Price\"])\n",
        "print(book_dict[\"Author\"])\n",
        "\n"
      ]
    },
    {
      "cell_type": "code",
      "execution_count": null,
      "metadata": {
        "colab": {
          "background_save": true,
          "base_uri": "https://localhost:8080/"
        },
        "id": "eQIDjOpPs3CG",
        "outputId": "a490aa79-c6f6-4cb5-cca7-3a4959a463f2"
      },
      "outputs": [
        {
          "name": "stdout",
          "output_type": "stream",
          "text": [
            "{'name': 'John', 'age': 30, 'married': True, 'divorced': False, 'children': ('Ann', 'Billy'), 'pets': None, 'cars': [{'model': 'BMW 230', 'mpg': 27.5}, {'model': 'Ford Edge', 'mpg': 24.1}]}\n",
            "<class 'dict'>\n",
            "BMW 230\n",
            "24.1\n",
            "{\"name\": \"John\", \"age\": 30, \"married\": true, \"divorced\": false, \"children\": [\"Ann\", \"Billy\"], \"pets\": null, \"cars\": [{\"model\": \"BMW 230\", \"mpg\": 27.5}, {\"model\": \"Ford Edge\", \"mpg\": 24.1}]}\n",
            "<class 'str'>\n",
            "\n",
            "BMW 230\n",
            "27.5\n",
            "Ford Edge\n",
            "24.1\n",
            "Ann\n",
            "Billy\n"
          ]
        }
      ],
      "source": [
        "# Read python file (dictionary) and Convert it into  Json File\n",
        "import json\n",
        "\n",
        "x = {\n",
        "  \"name\": \"John\",\n",
        "  \"age\": 30,\n",
        "  \"married\": True,\n",
        "  \"divorced\": False,\n",
        "  \"children\": (\"Ann\",\"Billy\"),\n",
        "  \"pets\": None,\n",
        "  \"cars\": [\n",
        "    {\"model\": \"BMW 230\", \"mpg\": 27.5},\n",
        "    {\"model\": \"Ford Edge\", \"mpg\": 24.1}\n",
        "  ]\n",
        "}\n",
        "\n",
        "print(x)\n",
        "print(type(x))\n",
        "\n",
        "print(x[\"cars\"][0][\"model\"])\n",
        "print(x[\"cars\"][1][\"mpg\"])\n",
        "\n",
        "jsonfile=json.dumps(x)\n",
        "print(jsonfile)\n",
        "print(type(jsonfile))\n",
        "\n",
        "print()\n",
        "\n",
        "# print(json.dumps(x, indent=4))\n",
        "\n",
        "# print(json.dumps(x, indent=4, separators=(\". \", \" = \")))\n",
        "\n",
        "# print(json.dumps(x, indent=4, sort_keys=True))\n",
        "\n",
        "\n",
        "for car in x['cars']:\n",
        "  print(car['model'])\n",
        "  print(car['mpg'])\n",
        "\n",
        "for child in x['children']:\n",
        "  print(child)"
      ]
    },
    {
      "cell_type": "code",
      "execution_count": null,
      "metadata": {
        "id": "NAJhDe4I8e2-"
      },
      "outputs": [],
      "source": [
        "students=[\n",
        "\t{\n",
        "\t\t\"name\" : \"Yash\",\n",
        "\t\t\"father_name\" : \"Amit Goyal\",\n",
        "\t\t\"email\" : \"abhisheknisun@gmail.com\",\n",
        "\t\t\"mobile\" : \"9911225526\",\n",
        "\t\t\"school\" : \"sssss\",\n",
        "\t\t\"pws\" : \"1234567\",\n",
        "\t\t\"stream\" : \"Commerce\",\n",
        "\t\t\"address\" : \"167\",\n",
        "\t\t\"area\" : \"kohat enclave\",\n",
        "\t\t\"pincode\" : \"110054\"\n",
        "\t},\n",
        "\t{\n",
        "\t\t\"name\" : \"ajay\",\n",
        "\t\t\"father_name\" : \"ANIL\",\n",
        "\t\t\"email\" : \"ajay@gmail.com\",\n",
        "\t\t\"mobile\" : \"8877665544\",\n",
        "\t\t\"school\" : \"kvs\",\n",
        "\t\t\"pws\" : \"Ajay12345\",\n",
        "\t\t\"stream\" : \"Commerce\",\n",
        "\t\t\"address\" : \"124\",\n",
        "\t\t\"area\" : \"rohini\",\n",
        "\t\t\"pincode\" : \"110044\"\n",
        "\t},\n",
        "\t{\n",
        "\t\t\"name\" : \"chandni\",\n",
        "\t\t\"father_name\" : \"mr. Ashok\",\n",
        "\t\t\"email\" : \"chandni@gmail.com\",\n",
        "\t\t\"mobile\" : \"2346574567\",\n",
        "\t\t\"school\" : \"kvs kohat\",\n",
        "\t\t\"pws\" : \"chandni123\",\n",
        "\t\t\"stream\" : \"Arts\",\n",
        "\t\t\"address\" : \"442\",\n",
        "\t\t\"area\" : \"kohat enclave\",\n",
        "\t\t\"pincode\" : \"110044\"\n",
        "\t},\n",
        "\t{\n",
        "\t\t\"name\" : \"gautam\",\n",
        "\t\t\"father_name\" : \"mg\",\n",
        "\t\t\"email\" : \"gautam@gmail.com\",\n",
        "\t\t\"mobile\" : \"9899887711\",\n",
        "\t\t\"school\" : \"kvs\",\n",
        "\t\t\"pws\" : \"gautam123\",\n",
        "\t\t\"stream\" : \"Science\",\n",
        "\t\t\"address\" : \"373\",\n",
        "\t\t\"area\" : \"kohat enclave\",\n",
        "\t\t\"pincode\" : \"110098\"\n",
        "\t},\n",
        "\t{\n",
        "\t\t\"name\" : \"harsh\",\n",
        "\t\t\"father_name\" : \"Harsh\",\n",
        "\t\t\"email\" : \"harsh123@gmail.com\",\n",
        "\t\t\"mobile\" : \"9899887711\",\n",
        "\t\t\"school\" : \"dsssb\",\n",
        "\t\t\"pws\" : \"654321\",\n",
        "\t\t\"stream\" : \"Commerce\",\n",
        "\t\t\"address\" : \"373\",\n",
        "\t\t\"area\" : \"kohat enclave\",\n",
        "\t\t\"pincode\" : \"110034\"\n",
        "\t},\n",
        "\t{\n",
        "\t\t\"name\" : \"hitanshi\",\n",
        "\t\t\"father_name\" : \"G M\",\n",
        "\t\t\"email\" : \"hitanshi@gmail.com\",\n",
        "\t\t\"mobile\" : \"8978989896\",\n",
        "\t\t\"school\" : \"kvs\",\n",
        "\t\t\"pws\" : \"hit@1213\",\n",
        "\t\t\"stream\" : \"Commerce\",\n",
        "\t\t\"address\" : \"373\",\n",
        "\t\t\"area\" : \"kohat enclave\",\n",
        "\t\t\"pincode\" : \"110044\"\n",
        "\t},\n",
        "\t{\n",
        "\t\t\"name\" : \"kamal\",\n",
        "\t\t\"father_name\" : \"Mr. XYZ\",\n",
        "\t\t\"email\" : \"kamal123@gmail.com\",\n",
        "\t\t\"mobile\" : \"9899887711\",\n",
        "\t\t\"school\" : \"SBV\",\n",
        "\t\t\"pws\" : \"123456789\",\n",
        "\t\t\"stream\" : \"Science\",\n",
        "\t\t\"address\" : \"1245\",\n",
        "\t\t\"area\" : \"kohat enclave\",\n",
        "\t\t\"pincode\" : \"110089\"\n",
        "\t},\n",
        "\t{\n",
        "\t\t\"name\" : \"rahul\",\n",
        "\t\t\"father_name\" : \"mr. raj\",\n",
        "\t\t\"email\" : \"kumarrahul@gmail.com\",\n",
        "\t\t\"mobile\" : \"9876645634\",\n",
        "\t\t\"school\" : \"dsssb\",\n",
        "\t\t\"pws\" : \"123456\",\n",
        "\t\t\"stream\" : \"Arts\",\n",
        "\t\t\"address\" : \"124\",\n",
        "\t\t\"area\" : \"delhi\",\n",
        "\t\t\"pincode\" : \"110054\"\n",
        "\t},\n",
        "\t{\n",
        "\t\t\"name\" : \"kunal\",\n",
        "\t\t\"father_name\" : \"kuldeep\",\n",
        "\t\t\"email\" : \"kunal@gmail.com\",\n",
        "\t\t\"mobile\" : \"9911225526\",\n",
        "\t\t\"school\" : \"kvs kohat\",\n",
        "\t\t\"pws\" : \"kunal123\",\n",
        "\t\t\"stream\" : \"Science\",\n",
        "\t\t\"address\" : \"167\",\n",
        "\t\t\"area\" : \"delhi\",\n",
        "\t\t\"pincode\" : \"110033\"\n",
        "\t},\n",
        "\t{\n",
        "\t\t\"name\" : \"mukesh123\",\n",
        "\t\t\"father_name\" : \"bl prasad\",\n",
        "\t\t\"email\" : \"mks2@gmail.com\",\n",
        "\t\t\"mobile\" : \"9899887313\",\n",
        "\t\t\"school\" : \"rvs\",\n",
        "\t\t\"pws\" : \"12345678\",\n",
        "\t\t\"stream\" : \"Science\",\n",
        "\t\t\"address\" : \"44\",\n",
        "\t\t\"area\" : \"kohat enclave\",\n",
        "\t\t\"pincode\" : \"110034\"\n",
        "\t},\n",
        "\t{\n",
        "\t\t\"name\" : \"nikita\",\n",
        "\t\t\"father_name\" : \"Nitin\",\n",
        "\t\t\"email\" : \"nikita@gmail.com\",\n",
        "\t\t\"mobile\" : \"9911225521\",\n",
        "\t\t\"school\" : \"tgc\",\n",
        "\t\t\"pws\" : \"nikita\",\n",
        "\t\t\"stream\" : \"Commerce\",\n",
        "\t\t\"address\" : \"44\",\n",
        "\t\t\"area\" : \"rohini\",\n",
        "\t\t\"pincode\" : \"110034\"\n",
        "\t},\n",
        "\t{\n",
        "\t\t\"name\" : \"prerna\",\n",
        "\t\t\"father_name\" : \"mr.\",\n",
        "\t\t\"email\" : \"p123@gmail.com\",\n",
        "\t\t\"mobile\" : \"9911225526\",\n",
        "\t\t\"school\" : \"dsssb\",\n",
        "\t\t\"pws\" : \"1234567\",\n",
        "\t\t\"stream\" : \"Science\",\n",
        "\t\t\"address\" : \"373\",\n",
        "\t\t\"area\" : \"kohat enclave\",\n",
        "\t\t\"pincode\" : \"110054\"\n",
        "\t},\n",
        "\t{\n",
        "\t\t\"name\" : \"prerna\",\n",
        "\t\t\"father_name\" : \"mr.\",\n",
        "\t\t\"email\" : \"prerna23@gmail.com\",\n",
        "\t\t\"mobile\" : \"9911225526\",\n",
        "\t\t\"school\" : \"dsssb\",\n",
        "\t\t\"pws\" : \"123456\",\n",
        "\t\t\"stream\" : \"Science\",\n",
        "\t\t\"address\" : \"373\",\n",
        "\t\t\"area\" : \"kohat enclave\",\n",
        "\t\t\"pincode\" : \"110054\"\n",
        "\t},\n",
        "\t{\n",
        "\t\t\"name\" : \"raj\",\n",
        "\t\t\"father_name\" : \"Raj\",\n",
        "\t\t\"email\" : \"raj@gmail.com\",\n",
        "\t\t\"mobile\" : \"9911225526\",\n",
        "\t\t\"school\" : \"kvs\",\n",
        "\t\t\"pws\" : \"12345678\",\n",
        "\t\t\"stream\" : \"Commerce\",\n",
        "\t\t\"address\" : \"145\",\n",
        "\t\t\"area\" : \"rohini\",\n",
        "\t\t\"pincode\" : \"110089\"\n",
        "\t},\n",
        "\t{\n",
        "\t\t\"name\" : \"abhay\",\n",
        "\t\t\"father_name\" : \"mr. rajender\",\n",
        "\t\t\"email\" : \"rs@gmail.com\",\n",
        "\t\t\"mobile\" : \"9876543210\",\n",
        "\t\t\"school\" : \"kv\",\n",
        "\t\t\"pws\" : \"123456789\",\n",
        "\t\t\"stream\" : \"Science\",\n",
        "\t\t\"address\" : \"55\",\n",
        "\t\t\"area\" : \"delhi\",\n",
        "\t\t\"pincode\" : \"110098\"\n",
        "\t},\n",
        "\t{\n",
        "\t\t\"name\" : \"harsh\",\n",
        "\t\t\"father_name\" : \"mr. ambika pratap singh\",\n",
        "\t\t\"email\" : \"rs123@gmail.com\",\n",
        "\t\t\"mobile\" : \"8877665588\",\n",
        "\t\t\"school\" : \"kvs\",\n",
        "\t\t\"pws\" : \"rs12345\",\n",
        "\t\t\"stream\" : \"Science\",\n",
        "\t\t\"address\" : \"373\",\n",
        "\t\t\"area\" : \"kohat enclave\",\n",
        "\t\t\"pincode\" : \"110033\"\n",
        "\t}\n",
        "]\n"
      ]
    },
    {
      "cell_type": "code",
      "execution_count": null,
      "metadata": {
        "colab": {
          "base_uri": "https://localhost:8080/"
        },
        "id": "aE9opG1A9RPz",
        "outputId": "a286339e-198a-47f9-b2a1-7f3b0dc79e84"
      },
      "outputs": [
        {
          "output_type": "stream",
          "name": "stdout",
          "text": [
            "[{'name': 'Yash', 'father_name': 'Amit Goyal', 'email': 'abhisheknisun@gmail.com', 'mobile': '9911225526', 'school': 'sssss', 'pws': '1234567', 'stream': 'Commerce', 'address': '167', 'area': 'kohat enclave', 'pincode': '110054'}, {'name': 'ajay', 'father_name': 'ANIL', 'email': 'ajay@gmail.com', 'mobile': '8877665544', 'school': 'kvs', 'pws': 'Ajay12345', 'stream': 'Commerce', 'address': '124', 'area': 'rohini', 'pincode': '110044'}, {'name': 'chandni', 'father_name': 'mr. Ashok', 'email': 'chandni@gmail.com', 'mobile': '2346574567', 'school': 'kvs kohat', 'pws': 'chandni123', 'stream': 'Arts', 'address': '442', 'area': 'kohat enclave', 'pincode': '110044'}, {'name': 'gautam', 'father_name': 'mg', 'email': 'gautam@gmail.com', 'mobile': '9899887711', 'school': 'kvs', 'pws': 'gautam123', 'stream': 'Science', 'address': '373', 'area': 'kohat enclave', 'pincode': '110098'}, {'name': 'harsh', 'father_name': 'Harsh', 'email': 'harsh123@gmail.com', 'mobile': '9899887711', 'school': 'dsssb', 'pws': '654321', 'stream': 'Commerce', 'address': '373', 'area': 'kohat enclave', 'pincode': '110034'}, {'name': 'hitanshi', 'father_name': 'G M', 'email': 'hitanshi@gmail.com', 'mobile': '8978989896', 'school': 'kvs', 'pws': 'hit@1213', 'stream': 'Commerce', 'address': '373', 'area': 'kohat enclave', 'pincode': '110044'}, {'name': 'kamal', 'father_name': 'Mr. XYZ', 'email': 'kamal123@gmail.com', 'mobile': '9899887711', 'school': 'SBV', 'pws': '123456789', 'stream': 'Science', 'address': '1245', 'area': 'kohat enclave', 'pincode': '110089'}, {'name': 'rahul', 'father_name': 'mr. raj', 'email': 'kumarrahul@gmail.com', 'mobile': '9876645634', 'school': 'dsssb', 'pws': '123456', 'stream': 'Arts', 'address': '124', 'area': 'delhi', 'pincode': '110054'}, {'name': 'kunal', 'father_name': 'kuldeep', 'email': 'kunal@gmail.com', 'mobile': '9911225526', 'school': 'kvs kohat', 'pws': 'kunal123', 'stream': 'Science', 'address': '167', 'area': 'delhi', 'pincode': '110033'}, {'name': 'mukesh123', 'father_name': 'bl prasad', 'email': 'mks2@gmail.com', 'mobile': '9899887313', 'school': 'rvs', 'pws': '12345678', 'stream': 'Science', 'address': '44', 'area': 'kohat enclave', 'pincode': '110034'}, {'name': 'nikita', 'father_name': 'Nitin', 'email': 'nikita@gmail.com', 'mobile': '9911225521', 'school': 'tgc', 'pws': 'nikita', 'stream': 'Commerce', 'address': '44', 'area': 'rohini', 'pincode': '110034'}, {'name': 'prerna', 'father_name': 'mr.', 'email': 'p123@gmail.com', 'mobile': '9911225526', 'school': 'dsssb', 'pws': '1234567', 'stream': 'Science', 'address': '373', 'area': 'kohat enclave', 'pincode': '110054'}, {'name': 'prerna', 'father_name': 'mr.', 'email': 'prerna23@gmail.com', 'mobile': '9911225526', 'school': 'dsssb', 'pws': '123456', 'stream': 'Science', 'address': '373', 'area': 'kohat enclave', 'pincode': '110054'}, {'name': 'raj', 'father_name': 'Raj', 'email': 'raj@gmail.com', 'mobile': '9911225526', 'school': 'kvs', 'pws': '12345678', 'stream': 'Commerce', 'address': '145', 'area': 'rohini', 'pincode': '110089'}, {'name': 'abhay', 'father_name': 'mr. rajender', 'email': 'rs@gmail.com', 'mobile': '9876543210', 'school': 'kv', 'pws': '123456789', 'stream': 'Science', 'address': '55', 'area': 'delhi', 'pincode': '110098'}, {'name': 'harsh', 'father_name': 'mr. ambika pratap singh', 'email': 'rs123@gmail.com', 'mobile': '8877665588', 'school': 'kvs', 'pws': 'rs12345', 'stream': 'Science', 'address': '373', 'area': 'kohat enclave', 'pincode': '110033'}]\n",
            "List of all students are\n",
            "<class 'list'>\n",
            "name : Yash\n",
            "father_name : Amit Goyal\n",
            "email : abhisheknisun@gmail.com\n",
            "mobile : 9911225526\n",
            "school : sssss\n",
            "pws : 1234567\n",
            "stream : Commerce\n",
            "address : 167\n",
            "area : kohat enclave\n",
            "pincode : 110054\n",
            "\n",
            "name : ajay\n",
            "father_name : ANIL\n",
            "email : ajay@gmail.com\n",
            "mobile : 8877665544\n",
            "school : kvs\n",
            "pws : Ajay12345\n",
            "stream : Commerce\n",
            "address : 124\n",
            "area : rohini\n",
            "pincode : 110044\n",
            "\n",
            "name : chandni\n",
            "father_name : mr. Ashok\n",
            "email : chandni@gmail.com\n",
            "mobile : 2346574567\n",
            "school : kvs kohat\n",
            "pws : chandni123\n",
            "stream : Arts\n",
            "address : 442\n",
            "area : kohat enclave\n",
            "pincode : 110044\n",
            "\n",
            "name : gautam\n",
            "father_name : mg\n",
            "email : gautam@gmail.com\n",
            "mobile : 9899887711\n",
            "school : kvs\n",
            "pws : gautam123\n",
            "stream : Science\n",
            "address : 373\n",
            "area : kohat enclave\n",
            "pincode : 110098\n",
            "\n",
            "name : harsh\n",
            "father_name : Harsh\n",
            "email : harsh123@gmail.com\n",
            "mobile : 9899887711\n",
            "school : dsssb\n",
            "pws : 654321\n",
            "stream : Commerce\n",
            "address : 373\n",
            "area : kohat enclave\n",
            "pincode : 110034\n",
            "\n",
            "name : hitanshi\n",
            "father_name : G M\n",
            "email : hitanshi@gmail.com\n",
            "mobile : 8978989896\n",
            "school : kvs\n",
            "pws : hit@1213\n",
            "stream : Commerce\n",
            "address : 373\n",
            "area : kohat enclave\n",
            "pincode : 110044\n",
            "\n",
            "name : kamal\n",
            "father_name : Mr. XYZ\n",
            "email : kamal123@gmail.com\n",
            "mobile : 9899887711\n",
            "school : SBV\n",
            "pws : 123456789\n",
            "stream : Science\n",
            "address : 1245\n",
            "area : kohat enclave\n",
            "pincode : 110089\n",
            "\n",
            "name : rahul\n",
            "father_name : mr. raj\n",
            "email : kumarrahul@gmail.com\n",
            "mobile : 9876645634\n",
            "school : dsssb\n",
            "pws : 123456\n",
            "stream : Arts\n",
            "address : 124\n",
            "area : delhi\n",
            "pincode : 110054\n",
            "\n",
            "name : kunal\n",
            "father_name : kuldeep\n",
            "email : kunal@gmail.com\n",
            "mobile : 9911225526\n",
            "school : kvs kohat\n",
            "pws : kunal123\n",
            "stream : Science\n",
            "address : 167\n",
            "area : delhi\n",
            "pincode : 110033\n",
            "\n",
            "name : mukesh123\n",
            "father_name : bl prasad\n",
            "email : mks2@gmail.com\n",
            "mobile : 9899887313\n",
            "school : rvs\n",
            "pws : 12345678\n",
            "stream : Science\n",
            "address : 44\n",
            "area : kohat enclave\n",
            "pincode : 110034\n",
            "\n",
            "name : nikita\n",
            "father_name : Nitin\n",
            "email : nikita@gmail.com\n",
            "mobile : 9911225521\n",
            "school : tgc\n",
            "pws : nikita\n",
            "stream : Commerce\n",
            "address : 44\n",
            "area : rohini\n",
            "pincode : 110034\n",
            "\n",
            "name : prerna\n",
            "father_name : mr.\n",
            "email : p123@gmail.com\n",
            "mobile : 9911225526\n",
            "school : dsssb\n",
            "pws : 1234567\n",
            "stream : Science\n",
            "address : 373\n",
            "area : kohat enclave\n",
            "pincode : 110054\n",
            "\n",
            "name : prerna\n",
            "father_name : mr.\n",
            "email : prerna23@gmail.com\n",
            "mobile : 9911225526\n",
            "school : dsssb\n",
            "pws : 123456\n",
            "stream : Science\n",
            "address : 373\n",
            "area : kohat enclave\n",
            "pincode : 110054\n",
            "\n",
            "name : raj\n",
            "father_name : Raj\n",
            "email : raj@gmail.com\n",
            "mobile : 9911225526\n",
            "school : kvs\n",
            "pws : 12345678\n",
            "stream : Commerce\n",
            "address : 145\n",
            "area : rohini\n",
            "pincode : 110089\n",
            "\n",
            "name : abhay\n",
            "father_name : mr. rajender\n",
            "email : rs@gmail.com\n",
            "mobile : 9876543210\n",
            "school : kv\n",
            "pws : 123456789\n",
            "stream : Science\n",
            "address : 55\n",
            "area : delhi\n",
            "pincode : 110098\n",
            "\n",
            "name : harsh\n",
            "father_name : mr. ambika pratap singh\n",
            "email : rs123@gmail.com\n",
            "mobile : 8877665588\n",
            "school : kvs\n",
            "pws : rs12345\n",
            "stream : Science\n",
            "address : 373\n",
            "area : kohat enclave\n",
            "pincode : 110033\n",
            "\n"
          ]
        }
      ],
      "source": [
        "print(students)\n",
        "print(\"List of all students are\")\n",
        "print(type(students))\n",
        "for student in students:\n",
        "  for key,value in student.items():\n",
        "    print(key,\":\",value)\n",
        "  print()\n"
      ]
    },
    {
      "cell_type": "code",
      "execution_count": null,
      "metadata": {
        "colab": {
          "base_uri": "https://localhost:8080/",
          "height": 762
        },
        "id": "Di5ReFVv-LEa",
        "outputId": "265a2878-183b-4536-cf98-a5c0cfb80523"
      },
      "outputs": [
        {
          "output_type": "execute_result",
          "data": {
            "text/plain": [
              "         name              father_name                    email      mobile  \\\n",
              "0        Yash               Amit Goyal  abhisheknisun@gmail.com  9911225526   \n",
              "1        ajay                     ANIL           ajay@gmail.com  8877665544   \n",
              "2     chandni                mr. Ashok        chandni@gmail.com  2346574567   \n",
              "3      gautam                       mg         gautam@gmail.com  9899887711   \n",
              "4       harsh                    Harsh       harsh123@gmail.com  9899887711   \n",
              "5    hitanshi                      G M       hitanshi@gmail.com  8978989896   \n",
              "6       kamal                  Mr. XYZ       kamal123@gmail.com  9899887711   \n",
              "7       rahul                  mr. raj     kumarrahul@gmail.com  9876645634   \n",
              "8       kunal                  kuldeep          kunal@gmail.com  9911225526   \n",
              "9   mukesh123                bl prasad           mks2@gmail.com  9899887313   \n",
              "10     nikita                    Nitin         nikita@gmail.com  9911225521   \n",
              "11     prerna                      mr.           p123@gmail.com  9911225526   \n",
              "12     prerna                      mr.       prerna23@gmail.com  9911225526   \n",
              "13        raj                      Raj            raj@gmail.com  9911225526   \n",
              "14      abhay             mr. rajender             rs@gmail.com  9876543210   \n",
              "15      harsh  mr. ambika pratap singh          rs123@gmail.com  8877665588   \n",
              "\n",
              "       school         pws    stream address           area pincode  \n",
              "0       sssss     1234567  Commerce     167  kohat enclave  110054  \n",
              "1         kvs   Ajay12345  Commerce     124         rohini  110044  \n",
              "2   kvs kohat  chandni123      Arts     442  kohat enclave  110044  \n",
              "3         kvs   gautam123   Science     373  kohat enclave  110098  \n",
              "4       dsssb      654321  Commerce     373  kohat enclave  110034  \n",
              "5         kvs    hit@1213  Commerce     373  kohat enclave  110044  \n",
              "6         SBV   123456789   Science    1245  kohat enclave  110089  \n",
              "7       dsssb      123456      Arts     124          delhi  110054  \n",
              "8   kvs kohat    kunal123   Science     167          delhi  110033  \n",
              "9         rvs    12345678   Science      44  kohat enclave  110034  \n",
              "10        tgc      nikita  Commerce      44         rohini  110034  \n",
              "11      dsssb     1234567   Science     373  kohat enclave  110054  \n",
              "12      dsssb      123456   Science     373  kohat enclave  110054  \n",
              "13        kvs    12345678  Commerce     145         rohini  110089  \n",
              "14         kv   123456789   Science      55          delhi  110098  \n",
              "15        kvs     rs12345   Science     373  kohat enclave  110033  "
            ],
            "text/html": [
              "\n",
              "  <div id=\"df-efff68a6-3a1e-47a8-8f3b-bd9ef0cf3e38\" class=\"colab-df-container\">\n",
              "    <div>\n",
              "<style scoped>\n",
              "    .dataframe tbody tr th:only-of-type {\n",
              "        vertical-align: middle;\n",
              "    }\n",
              "\n",
              "    .dataframe tbody tr th {\n",
              "        vertical-align: top;\n",
              "    }\n",
              "\n",
              "    .dataframe thead th {\n",
              "        text-align: right;\n",
              "    }\n",
              "</style>\n",
              "<table border=\"1\" class=\"dataframe\">\n",
              "  <thead>\n",
              "    <tr style=\"text-align: right;\">\n",
              "      <th></th>\n",
              "      <th>name</th>\n",
              "      <th>father_name</th>\n",
              "      <th>email</th>\n",
              "      <th>mobile</th>\n",
              "      <th>school</th>\n",
              "      <th>pws</th>\n",
              "      <th>stream</th>\n",
              "      <th>address</th>\n",
              "      <th>area</th>\n",
              "      <th>pincode</th>\n",
              "    </tr>\n",
              "  </thead>\n",
              "  <tbody>\n",
              "    <tr>\n",
              "      <th>0</th>\n",
              "      <td>Yash</td>\n",
              "      <td>Amit Goyal</td>\n",
              "      <td>abhisheknisun@gmail.com</td>\n",
              "      <td>9911225526</td>\n",
              "      <td>sssss</td>\n",
              "      <td>1234567</td>\n",
              "      <td>Commerce</td>\n",
              "      <td>167</td>\n",
              "      <td>kohat enclave</td>\n",
              "      <td>110054</td>\n",
              "    </tr>\n",
              "    <tr>\n",
              "      <th>1</th>\n",
              "      <td>ajay</td>\n",
              "      <td>ANIL</td>\n",
              "      <td>ajay@gmail.com</td>\n",
              "      <td>8877665544</td>\n",
              "      <td>kvs</td>\n",
              "      <td>Ajay12345</td>\n",
              "      <td>Commerce</td>\n",
              "      <td>124</td>\n",
              "      <td>rohini</td>\n",
              "      <td>110044</td>\n",
              "    </tr>\n",
              "    <tr>\n",
              "      <th>2</th>\n",
              "      <td>chandni</td>\n",
              "      <td>mr. Ashok</td>\n",
              "      <td>chandni@gmail.com</td>\n",
              "      <td>2346574567</td>\n",
              "      <td>kvs kohat</td>\n",
              "      <td>chandni123</td>\n",
              "      <td>Arts</td>\n",
              "      <td>442</td>\n",
              "      <td>kohat enclave</td>\n",
              "      <td>110044</td>\n",
              "    </tr>\n",
              "    <tr>\n",
              "      <th>3</th>\n",
              "      <td>gautam</td>\n",
              "      <td>mg</td>\n",
              "      <td>gautam@gmail.com</td>\n",
              "      <td>9899887711</td>\n",
              "      <td>kvs</td>\n",
              "      <td>gautam123</td>\n",
              "      <td>Science</td>\n",
              "      <td>373</td>\n",
              "      <td>kohat enclave</td>\n",
              "      <td>110098</td>\n",
              "    </tr>\n",
              "    <tr>\n",
              "      <th>4</th>\n",
              "      <td>harsh</td>\n",
              "      <td>Harsh</td>\n",
              "      <td>harsh123@gmail.com</td>\n",
              "      <td>9899887711</td>\n",
              "      <td>dsssb</td>\n",
              "      <td>654321</td>\n",
              "      <td>Commerce</td>\n",
              "      <td>373</td>\n",
              "      <td>kohat enclave</td>\n",
              "      <td>110034</td>\n",
              "    </tr>\n",
              "    <tr>\n",
              "      <th>5</th>\n",
              "      <td>hitanshi</td>\n",
              "      <td>G M</td>\n",
              "      <td>hitanshi@gmail.com</td>\n",
              "      <td>8978989896</td>\n",
              "      <td>kvs</td>\n",
              "      <td>hit@1213</td>\n",
              "      <td>Commerce</td>\n",
              "      <td>373</td>\n",
              "      <td>kohat enclave</td>\n",
              "      <td>110044</td>\n",
              "    </tr>\n",
              "    <tr>\n",
              "      <th>6</th>\n",
              "      <td>kamal</td>\n",
              "      <td>Mr. XYZ</td>\n",
              "      <td>kamal123@gmail.com</td>\n",
              "      <td>9899887711</td>\n",
              "      <td>SBV</td>\n",
              "      <td>123456789</td>\n",
              "      <td>Science</td>\n",
              "      <td>1245</td>\n",
              "      <td>kohat enclave</td>\n",
              "      <td>110089</td>\n",
              "    </tr>\n",
              "    <tr>\n",
              "      <th>7</th>\n",
              "      <td>rahul</td>\n",
              "      <td>mr. raj</td>\n",
              "      <td>kumarrahul@gmail.com</td>\n",
              "      <td>9876645634</td>\n",
              "      <td>dsssb</td>\n",
              "      <td>123456</td>\n",
              "      <td>Arts</td>\n",
              "      <td>124</td>\n",
              "      <td>delhi</td>\n",
              "      <td>110054</td>\n",
              "    </tr>\n",
              "    <tr>\n",
              "      <th>8</th>\n",
              "      <td>kunal</td>\n",
              "      <td>kuldeep</td>\n",
              "      <td>kunal@gmail.com</td>\n",
              "      <td>9911225526</td>\n",
              "      <td>kvs kohat</td>\n",
              "      <td>kunal123</td>\n",
              "      <td>Science</td>\n",
              "      <td>167</td>\n",
              "      <td>delhi</td>\n",
              "      <td>110033</td>\n",
              "    </tr>\n",
              "    <tr>\n",
              "      <th>9</th>\n",
              "      <td>mukesh123</td>\n",
              "      <td>bl prasad</td>\n",
              "      <td>mks2@gmail.com</td>\n",
              "      <td>9899887313</td>\n",
              "      <td>rvs</td>\n",
              "      <td>12345678</td>\n",
              "      <td>Science</td>\n",
              "      <td>44</td>\n",
              "      <td>kohat enclave</td>\n",
              "      <td>110034</td>\n",
              "    </tr>\n",
              "    <tr>\n",
              "      <th>10</th>\n",
              "      <td>nikita</td>\n",
              "      <td>Nitin</td>\n",
              "      <td>nikita@gmail.com</td>\n",
              "      <td>9911225521</td>\n",
              "      <td>tgc</td>\n",
              "      <td>nikita</td>\n",
              "      <td>Commerce</td>\n",
              "      <td>44</td>\n",
              "      <td>rohini</td>\n",
              "      <td>110034</td>\n",
              "    </tr>\n",
              "    <tr>\n",
              "      <th>11</th>\n",
              "      <td>prerna</td>\n",
              "      <td>mr.</td>\n",
              "      <td>p123@gmail.com</td>\n",
              "      <td>9911225526</td>\n",
              "      <td>dsssb</td>\n",
              "      <td>1234567</td>\n",
              "      <td>Science</td>\n",
              "      <td>373</td>\n",
              "      <td>kohat enclave</td>\n",
              "      <td>110054</td>\n",
              "    </tr>\n",
              "    <tr>\n",
              "      <th>12</th>\n",
              "      <td>prerna</td>\n",
              "      <td>mr.</td>\n",
              "      <td>prerna23@gmail.com</td>\n",
              "      <td>9911225526</td>\n",
              "      <td>dsssb</td>\n",
              "      <td>123456</td>\n",
              "      <td>Science</td>\n",
              "      <td>373</td>\n",
              "      <td>kohat enclave</td>\n",
              "      <td>110054</td>\n",
              "    </tr>\n",
              "    <tr>\n",
              "      <th>13</th>\n",
              "      <td>raj</td>\n",
              "      <td>Raj</td>\n",
              "      <td>raj@gmail.com</td>\n",
              "      <td>9911225526</td>\n",
              "      <td>kvs</td>\n",
              "      <td>12345678</td>\n",
              "      <td>Commerce</td>\n",
              "      <td>145</td>\n",
              "      <td>rohini</td>\n",
              "      <td>110089</td>\n",
              "    </tr>\n",
              "    <tr>\n",
              "      <th>14</th>\n",
              "      <td>abhay</td>\n",
              "      <td>mr. rajender</td>\n",
              "      <td>rs@gmail.com</td>\n",
              "      <td>9876543210</td>\n",
              "      <td>kv</td>\n",
              "      <td>123456789</td>\n",
              "      <td>Science</td>\n",
              "      <td>55</td>\n",
              "      <td>delhi</td>\n",
              "      <td>110098</td>\n",
              "    </tr>\n",
              "    <tr>\n",
              "      <th>15</th>\n",
              "      <td>harsh</td>\n",
              "      <td>mr. ambika pratap singh</td>\n",
              "      <td>rs123@gmail.com</td>\n",
              "      <td>8877665588</td>\n",
              "      <td>kvs</td>\n",
              "      <td>rs12345</td>\n",
              "      <td>Science</td>\n",
              "      <td>373</td>\n",
              "      <td>kohat enclave</td>\n",
              "      <td>110033</td>\n",
              "    </tr>\n",
              "  </tbody>\n",
              "</table>\n",
              "</div>\n",
              "    <div class=\"colab-df-buttons\">\n",
              "\n",
              "  <div class=\"colab-df-container\">\n",
              "    <button class=\"colab-df-convert\" onclick=\"convertToInteractive('df-efff68a6-3a1e-47a8-8f3b-bd9ef0cf3e38')\"\n",
              "            title=\"Convert this dataframe to an interactive table.\"\n",
              "            style=\"display:none;\">\n",
              "\n",
              "  <svg xmlns=\"http://www.w3.org/2000/svg\" height=\"24px\" viewBox=\"0 -960 960 960\">\n",
              "    <path d=\"M120-120v-720h720v720H120Zm60-500h600v-160H180v160Zm220 220h160v-160H400v160Zm0 220h160v-160H400v160ZM180-400h160v-160H180v160Zm440 0h160v-160H620v160ZM180-180h160v-160H180v160Zm440 0h160v-160H620v160Z\"/>\n",
              "  </svg>\n",
              "    </button>\n",
              "\n",
              "  <style>\n",
              "    .colab-df-container {\n",
              "      display:flex;\n",
              "      gap: 12px;\n",
              "    }\n",
              "\n",
              "    .colab-df-convert {\n",
              "      background-color: #E8F0FE;\n",
              "      border: none;\n",
              "      border-radius: 50%;\n",
              "      cursor: pointer;\n",
              "      display: none;\n",
              "      fill: #1967D2;\n",
              "      height: 32px;\n",
              "      padding: 0 0 0 0;\n",
              "      width: 32px;\n",
              "    }\n",
              "\n",
              "    .colab-df-convert:hover {\n",
              "      background-color: #E2EBFA;\n",
              "      box-shadow: 0px 1px 2px rgba(60, 64, 67, 0.3), 0px 1px 3px 1px rgba(60, 64, 67, 0.15);\n",
              "      fill: #174EA6;\n",
              "    }\n",
              "\n",
              "    .colab-df-buttons div {\n",
              "      margin-bottom: 4px;\n",
              "    }\n",
              "\n",
              "    [theme=dark] .colab-df-convert {\n",
              "      background-color: #3B4455;\n",
              "      fill: #D2E3FC;\n",
              "    }\n",
              "\n",
              "    [theme=dark] .colab-df-convert:hover {\n",
              "      background-color: #434B5C;\n",
              "      box-shadow: 0px 1px 3px 1px rgba(0, 0, 0, 0.15);\n",
              "      filter: drop-shadow(0px 1px 2px rgba(0, 0, 0, 0.3));\n",
              "      fill: #FFFFFF;\n",
              "    }\n",
              "  </style>\n",
              "\n",
              "    <script>\n",
              "      const buttonEl =\n",
              "        document.querySelector('#df-efff68a6-3a1e-47a8-8f3b-bd9ef0cf3e38 button.colab-df-convert');\n",
              "      buttonEl.style.display =\n",
              "        google.colab.kernel.accessAllowed ? 'block' : 'none';\n",
              "\n",
              "      async function convertToInteractive(key) {\n",
              "        const element = document.querySelector('#df-efff68a6-3a1e-47a8-8f3b-bd9ef0cf3e38');\n",
              "        const dataTable =\n",
              "          await google.colab.kernel.invokeFunction('convertToInteractive',\n",
              "                                                    [key], {});\n",
              "        if (!dataTable) return;\n",
              "\n",
              "        const docLinkHtml = 'Like what you see? Visit the ' +\n",
              "          '<a target=\"_blank\" href=https://colab.research.google.com/notebooks/data_table.ipynb>data table notebook</a>'\n",
              "          + ' to learn more about interactive tables.';\n",
              "        element.innerHTML = '';\n",
              "        dataTable['output_type'] = 'display_data';\n",
              "        await google.colab.output.renderOutput(dataTable, element);\n",
              "        const docLink = document.createElement('div');\n",
              "        docLink.innerHTML = docLinkHtml;\n",
              "        element.appendChild(docLink);\n",
              "      }\n",
              "    </script>\n",
              "  </div>\n",
              "\n",
              "\n",
              "<div id=\"df-f4bd89bb-e31f-4e63-951a-52be6b910ab9\">\n",
              "  <button class=\"colab-df-quickchart\" onclick=\"quickchart('df-f4bd89bb-e31f-4e63-951a-52be6b910ab9')\"\n",
              "            title=\"Suggest charts\"\n",
              "            style=\"display:none;\">\n",
              "\n",
              "<svg xmlns=\"http://www.w3.org/2000/svg\" height=\"24px\"viewBox=\"0 0 24 24\"\n",
              "     width=\"24px\">\n",
              "    <g>\n",
              "        <path d=\"M19 3H5c-1.1 0-2 .9-2 2v14c0 1.1.9 2 2 2h14c1.1 0 2-.9 2-2V5c0-1.1-.9-2-2-2zM9 17H7v-7h2v7zm4 0h-2V7h2v10zm4 0h-2v-4h2v4z\"/>\n",
              "    </g>\n",
              "</svg>\n",
              "  </button>\n",
              "\n",
              "<style>\n",
              "  .colab-df-quickchart {\n",
              "      --bg-color: #E8F0FE;\n",
              "      --fill-color: #1967D2;\n",
              "      --hover-bg-color: #E2EBFA;\n",
              "      --hover-fill-color: #174EA6;\n",
              "      --disabled-fill-color: #AAA;\n",
              "      --disabled-bg-color: #DDD;\n",
              "  }\n",
              "\n",
              "  [theme=dark] .colab-df-quickchart {\n",
              "      --bg-color: #3B4455;\n",
              "      --fill-color: #D2E3FC;\n",
              "      --hover-bg-color: #434B5C;\n",
              "      --hover-fill-color: #FFFFFF;\n",
              "      --disabled-bg-color: #3B4455;\n",
              "      --disabled-fill-color: #666;\n",
              "  }\n",
              "\n",
              "  .colab-df-quickchart {\n",
              "    background-color: var(--bg-color);\n",
              "    border: none;\n",
              "    border-radius: 50%;\n",
              "    cursor: pointer;\n",
              "    display: none;\n",
              "    fill: var(--fill-color);\n",
              "    height: 32px;\n",
              "    padding: 0;\n",
              "    width: 32px;\n",
              "  }\n",
              "\n",
              "  .colab-df-quickchart:hover {\n",
              "    background-color: var(--hover-bg-color);\n",
              "    box-shadow: 0 1px 2px rgba(60, 64, 67, 0.3), 0 1px 3px 1px rgba(60, 64, 67, 0.15);\n",
              "    fill: var(--button-hover-fill-color);\n",
              "  }\n",
              "\n",
              "  .colab-df-quickchart-complete:disabled,\n",
              "  .colab-df-quickchart-complete:disabled:hover {\n",
              "    background-color: var(--disabled-bg-color);\n",
              "    fill: var(--disabled-fill-color);\n",
              "    box-shadow: none;\n",
              "  }\n",
              "\n",
              "  .colab-df-spinner {\n",
              "    border: 2px solid var(--fill-color);\n",
              "    border-color: transparent;\n",
              "    border-bottom-color: var(--fill-color);\n",
              "    animation:\n",
              "      spin 1s steps(1) infinite;\n",
              "  }\n",
              "\n",
              "  @keyframes spin {\n",
              "    0% {\n",
              "      border-color: transparent;\n",
              "      border-bottom-color: var(--fill-color);\n",
              "      border-left-color: var(--fill-color);\n",
              "    }\n",
              "    20% {\n",
              "      border-color: transparent;\n",
              "      border-left-color: var(--fill-color);\n",
              "      border-top-color: var(--fill-color);\n",
              "    }\n",
              "    30% {\n",
              "      border-color: transparent;\n",
              "      border-left-color: var(--fill-color);\n",
              "      border-top-color: var(--fill-color);\n",
              "      border-right-color: var(--fill-color);\n",
              "    }\n",
              "    40% {\n",
              "      border-color: transparent;\n",
              "      border-right-color: var(--fill-color);\n",
              "      border-top-color: var(--fill-color);\n",
              "    }\n",
              "    60% {\n",
              "      border-color: transparent;\n",
              "      border-right-color: var(--fill-color);\n",
              "    }\n",
              "    80% {\n",
              "      border-color: transparent;\n",
              "      border-right-color: var(--fill-color);\n",
              "      border-bottom-color: var(--fill-color);\n",
              "    }\n",
              "    90% {\n",
              "      border-color: transparent;\n",
              "      border-bottom-color: var(--fill-color);\n",
              "    }\n",
              "  }\n",
              "</style>\n",
              "\n",
              "  <script>\n",
              "    async function quickchart(key) {\n",
              "      const quickchartButtonEl =\n",
              "        document.querySelector('#' + key + ' button');\n",
              "      quickchartButtonEl.disabled = true;  // To prevent multiple clicks.\n",
              "      quickchartButtonEl.classList.add('colab-df-spinner');\n",
              "      try {\n",
              "        const charts = await google.colab.kernel.invokeFunction(\n",
              "            'suggestCharts', [key], {});\n",
              "      } catch (error) {\n",
              "        console.error('Error during call to suggestCharts:', error);\n",
              "      }\n",
              "      quickchartButtonEl.classList.remove('colab-df-spinner');\n",
              "      quickchartButtonEl.classList.add('colab-df-quickchart-complete');\n",
              "    }\n",
              "    (() => {\n",
              "      let quickchartButtonEl =\n",
              "        document.querySelector('#df-f4bd89bb-e31f-4e63-951a-52be6b910ab9 button');\n",
              "      quickchartButtonEl.style.display =\n",
              "        google.colab.kernel.accessAllowed ? 'block' : 'none';\n",
              "    })();\n",
              "  </script>\n",
              "</div>\n",
              "\n",
              "  <div id=\"id_3eb23c80-73a7-4ba8-b421-36c753626094\">\n",
              "    <style>\n",
              "      .colab-df-generate {\n",
              "        background-color: #E8F0FE;\n",
              "        border: none;\n",
              "        border-radius: 50%;\n",
              "        cursor: pointer;\n",
              "        display: none;\n",
              "        fill: #1967D2;\n",
              "        height: 32px;\n",
              "        padding: 0 0 0 0;\n",
              "        width: 32px;\n",
              "      }\n",
              "\n",
              "      .colab-df-generate:hover {\n",
              "        background-color: #E2EBFA;\n",
              "        box-shadow: 0px 1px 2px rgba(60, 64, 67, 0.3), 0px 1px 3px 1px rgba(60, 64, 67, 0.15);\n",
              "        fill: #174EA6;\n",
              "      }\n",
              "\n",
              "      [theme=dark] .colab-df-generate {\n",
              "        background-color: #3B4455;\n",
              "        fill: #D2E3FC;\n",
              "      }\n",
              "\n",
              "      [theme=dark] .colab-df-generate:hover {\n",
              "        background-color: #434B5C;\n",
              "        box-shadow: 0px 1px 3px 1px rgba(0, 0, 0, 0.15);\n",
              "        filter: drop-shadow(0px 1px 2px rgba(0, 0, 0, 0.3));\n",
              "        fill: #FFFFFF;\n",
              "      }\n",
              "    </style>\n",
              "    <button class=\"colab-df-generate\" onclick=\"generateWithVariable('df')\"\n",
              "            title=\"Generate code using this dataframe.\"\n",
              "            style=\"display:none;\">\n",
              "\n",
              "  <svg xmlns=\"http://www.w3.org/2000/svg\" height=\"24px\"viewBox=\"0 0 24 24\"\n",
              "       width=\"24px\">\n",
              "    <path d=\"M7,19H8.4L18.45,9,17,7.55,7,17.6ZM5,21V16.75L18.45,3.32a2,2,0,0,1,2.83,0l1.4,1.43a1.91,1.91,0,0,1,.58,1.4,1.91,1.91,0,0,1-.58,1.4L9.25,21ZM18.45,9,17,7.55Zm-12,3A5.31,5.31,0,0,0,4.9,8.1,5.31,5.31,0,0,0,1,6.5,5.31,5.31,0,0,0,4.9,4.9,5.31,5.31,0,0,0,6.5,1,5.31,5.31,0,0,0,8.1,4.9,5.31,5.31,0,0,0,12,6.5,5.46,5.46,0,0,0,6.5,12Z\"/>\n",
              "  </svg>\n",
              "    </button>\n",
              "    <script>\n",
              "      (() => {\n",
              "      const buttonEl =\n",
              "        document.querySelector('#id_3eb23c80-73a7-4ba8-b421-36c753626094 button.colab-df-generate');\n",
              "      buttonEl.style.display =\n",
              "        google.colab.kernel.accessAllowed ? 'block' : 'none';\n",
              "\n",
              "      buttonEl.onclick = () => {\n",
              "        google.colab.notebook.generateWithVariable('df');\n",
              "      }\n",
              "      })();\n",
              "    </script>\n",
              "  </div>\n",
              "\n",
              "    </div>\n",
              "  </div>\n"
            ],
            "application/vnd.google.colaboratory.intrinsic+json": {
              "type": "dataframe",
              "variable_name": "df",
              "summary": "{\n  \"name\": \"df\",\n  \"rows\": 16,\n  \"fields\": [\n    {\n      \"column\": \"name\",\n      \"properties\": {\n        \"dtype\": \"string\",\n        \"num_unique_values\": 14,\n        \"samples\": [\n          \"mukesh123\",\n          \"prerna\",\n          \"Yash\"\n        ],\n        \"semantic_type\": \"\",\n        \"description\": \"\"\n      }\n    },\n    {\n      \"column\": \"father_name\",\n      \"properties\": {\n        \"dtype\": \"string\",\n        \"num_unique_values\": 15,\n        \"samples\": [\n          \"bl prasad\",\n          \"mr.\",\n          \"Amit Goyal\"\n        ],\n        \"semantic_type\": \"\",\n        \"description\": \"\"\n      }\n    },\n    {\n      \"column\": \"email\",\n      \"properties\": {\n        \"dtype\": \"string\",\n        \"num_unique_values\": 16,\n        \"samples\": [\n          \"abhisheknisun@gmail.com\",\n          \"ajay@gmail.com\",\n          \"hitanshi@gmail.com\"\n        ],\n        \"semantic_type\": \"\",\n        \"description\": \"\"\n      }\n    },\n    {\n      \"column\": \"mobile\",\n      \"properties\": {\n        \"dtype\": \"string\",\n        \"num_unique_values\": 10,\n        \"samples\": [\n          \"9876543210\",\n          \"8877665544\",\n          \"9876645634\"\n        ],\n        \"semantic_type\": \"\",\n        \"description\": \"\"\n      }\n    },\n    {\n      \"column\": \"school\",\n      \"properties\": {\n        \"dtype\": \"string\",\n        \"num_unique_values\": 8,\n        \"samples\": [\n          \"kvs\",\n          \"rvs\",\n          \"sssss\"\n        ],\n        \"semantic_type\": \"\",\n        \"description\": \"\"\n      }\n    },\n    {\n      \"column\": \"pws\",\n      \"properties\": {\n        \"dtype\": \"string\",\n        \"num_unique_values\": 12,\n        \"samples\": [\n          \"nikita\",\n          \"12345678\",\n          \"1234567\"\n        ],\n        \"semantic_type\": \"\",\n        \"description\": \"\"\n      }\n    },\n    {\n      \"column\": \"stream\",\n      \"properties\": {\n        \"dtype\": \"category\",\n        \"num_unique_values\": 3,\n        \"samples\": [\n          \"Commerce\",\n          \"Arts\",\n          \"Science\"\n        ],\n        \"semantic_type\": \"\",\n        \"description\": \"\"\n      }\n    },\n    {\n      \"column\": \"address\",\n      \"properties\": {\n        \"dtype\": \"string\",\n        \"num_unique_values\": 8,\n        \"samples\": [\n          \"124\",\n          \"44\",\n          \"167\"\n        ],\n        \"semantic_type\": \"\",\n        \"description\": \"\"\n      }\n    },\n    {\n      \"column\": \"area\",\n      \"properties\": {\n        \"dtype\": \"category\",\n        \"num_unique_values\": 3,\n        \"samples\": [\n          \"kohat enclave\",\n          \"rohini\",\n          \"delhi\"\n        ],\n        \"semantic_type\": \"\",\n        \"description\": \"\"\n      }\n    },\n    {\n      \"column\": \"pincode\",\n      \"properties\": {\n        \"dtype\": \"category\",\n        \"num_unique_values\": 6,\n        \"samples\": [\n          \"110054\",\n          \"110044\",\n          \"110033\"\n        ],\n        \"semantic_type\": \"\",\n        \"description\": \"\"\n      }\n    }\n  ]\n}"
            }
          },
          "metadata": {},
          "execution_count": 25
        }
      ],
      "source": [
        "import pandas as pd\n",
        "df=pd.DataFrame(students)\n",
        "df"
      ]
    },
    {
      "cell_type": "code",
      "execution_count": null,
      "metadata": {
        "id": "bedjIq-bAqkL"
      },
      "outputs": [],
      "source": [
        "# prompt: file handling functions\n",
        "\n",
        "# Opening a file\n",
        "file = open(\"my_file.txt\", \"w\")  # Open for writing (creates if doesn't exist)\n",
        "# or\n",
        "file = open(\"my_file.txt\", \"r\")  # Open for reading\n",
        "# or\n",
        "file = open(\"my_file.txt\", \"a\")  # Open for appending\n",
        "\n",
        "# Writing to a file\n",
        "file.write(\"Hello, world!\\n\")\n",
        "file.write(\"This is some text.\")\n",
        "\n",
        "# Reading from a file\n",
        "content = file.read()  # Read entire content\n",
        "print(content)\n",
        "# or\n",
        "line = file.readline()  # Read a single line\n",
        "print(line)\n",
        "# or\n",
        "lines = file.readlines()  # Read all lines into a list\n",
        "for line in lines:\n",
        "  print(line)\n",
        "\n",
        "# Closing a file\n",
        "file.close()\n",
        "\n",
        "# Using 'with' (automatically closes the file)\n",
        "with open(\"my_file.txt\", \"r\") as file:\n",
        "  content = file.read()\n",
        "  print(content)\n"
      ]
    },
    {
      "cell_type": "code",
      "execution_count": null,
      "metadata": {
        "colab": {
          "base_uri": "https://localhost:8080/"
        },
        "id": "oXYsvP6TpXb0",
        "outputId": "290dae7c-5269-456b-d112-53947c9129f9"
      },
      "outputs": [
        {
          "output_type": "stream",
          "name": "stdout",
          "text": [
            "[1, 2, 3, 4, 5, 6, 7, 8, 9]\n",
            "[1, 4, 9, 16, 25, 36, 49, 64, 81]\n",
            "[1, 8, 27, 64, 125, 216, 343, 512, 729]\n",
            "('roshan', 'preeti', 'tannu', 'kirtika', 'path', 'sumit', 'mukesh', 'monika', 'smriti')\n",
            "['ROSHAN', 'PREETI', 'TANNU', 'KIRTIKA', 'PATH', 'SUMIT', 'MUKESH', 'MONIKA', 'SMRITI']\n",
            "['Roshan', 'Preeti', 'Tannu', 'Kirtika', 'Path', 'Sumit', 'Mukesh', 'Monika', 'Smriti']\n"
          ]
        }
      ],
      "source": [
        "# python  map function\n",
        "def square(x):\n",
        "  return x*x\n",
        "\n",
        "l1=[1,2,3,4,5,6,7,8,9]\n",
        "\n",
        "print(l1)\n",
        "l2=list(map(square,l1))\n",
        "\n",
        "print(l2)\n",
        "\n",
        "cube=list(map(lambda x:x*x*x,l1))\n",
        "print(cube)\n",
        "\n",
        "\n",
        "\n",
        "names=('roshan','preeti','tannu',\"kirtika\",\"path\",\"sumit\",\"mukesh\",\"monika\",\"smriti\")\n",
        "print(names)\n",
        "l3=list(map(str.upper,names))\n",
        "print(l3)\n",
        "\n",
        "l4=list(map(str.capitalize,names))\n",
        "print(l4)\n",
        "\n",
        "\n",
        "\n",
        "\n"
      ]
    },
    {
      "cell_type": "code",
      "execution_count": null,
      "metadata": {
        "colab": {
          "base_uri": "https://localhost:8080/"
        },
        "id": "4JbU2vf_rrC7",
        "outputId": "ac3407f1-dcf6-406c-abc3-96094f535c05"
      },
      "outputs": [
        {
          "output_type": "stream",
          "name": "stdout",
          "text": [
            "['ROSHAN', 'PREETI', 'TANNU', 'KIRTIKA', 'PATRH', 'SUMIT']\n",
            "['ROSHAN', 'PREETI', 'TANNU', 'KIRTIKA', 'PATRH', 'SUMIT']\n",
            "['Roshan', 'Preeti', 'Tannu', 'Kirtika', 'Patrh', 'Sumit']\n",
            "['roshan', 'preeti', 'tannu', 'kirtika', 'patrh', 'sumit']\n",
            "['Roshan', 'Preeti', 'Tannu', 'Kirtika', 'Patrh', 'Sumit']\n",
            "['ROSHAN', 'PREETI', 'TANNU', 'KIRTIKA', 'PATRH', 'SUMIT']\n"
          ]
        }
      ],
      "source": [
        "names=('roshan','preeti','tannu',\"kirtika\",\"patrh\",\"sumit\")\n",
        "\n",
        "newlist=[]\n",
        "for name in names:\n",
        "  newlist.append(name.upper())\n",
        "print(newlist)\n",
        "\n",
        "newlist=list(map(str.upper,names))\n",
        "print(newlist)\n",
        "\n",
        "newlist=list(map(str.capitalize,names))\n",
        "print(newlist)\n",
        "\n",
        "newlist=list(map(str.lower,names))\n",
        "print(newlist)\n",
        "\n",
        "newlist=list(map(str.title,names))\n",
        "print(newlist)\n",
        "\n",
        "newlist=list(map(str.swapcase,names))\n",
        "print(newlist)"
      ]
    },
    {
      "cell_type": "code",
      "execution_count": null,
      "metadata": {
        "colab": {
          "base_uri": "https://localhost:8080/"
        },
        "id": "h9XSY6BusnWk",
        "outputId": "a886b338-22f1-480c-84a2-918c3d607155"
      },
      "outputs": [
        {
          "name": "stdout",
          "output_type": "stream",
          "text": [
            "[11, 22, 23, 24, 45, 56, 67, 88, 79, 100, 66, 76, 43, 78, 44, 33, 119, -70, -23, 89, -33, 86, -12]\n",
            "[11, 23, 45, 67, 79, 43, 33, 119, -23, 89, -33]\n",
            "[22, 24, 56, 88, 100, 66, 76, 78, 44, -70, 86, -12]\n",
            "[11, 22, 23, 24, 45, 56, 67, 88, 79, 100, 66, 76, 43, 78, 44, 33, 119, 89, 86]\n",
            "[-70, -23, -33, -12]\n"
          ]
        }
      ],
      "source": [
        "# filter\n",
        "numlist=[11,22,23,24,45,56,67,88,79,100,66,76,43,78,44,33,119,-70,-23,89,-33,86,-12]\n",
        "print(numlist)\n",
        "\n",
        "oddlist=list(filter(lambda x:x%2!=0,numlist))\n",
        "print(oddlist)\n",
        "\n",
        "evenlist=list(filter(lambda x:x%2==0,numlist))\n",
        "print(evenlist)\n",
        "\n",
        "positivelist=list(filter(lambda x:x>0,numlist))\n",
        "print(positivelist)\n",
        "\n",
        "negativelist=list(filter(lambda x:x<0,numlist))\n",
        "print(negativelist)"
      ]
    },
    {
      "cell_type": "code",
      "execution_count": null,
      "metadata": {
        "colab": {
          "base_uri": "https://localhost:8080/"
        },
        "id": "UTGf6YtUuvkr",
        "outputId": "638d1bb9-6716-4e32-f22d-4d3661ea48cb"
      },
      "outputs": [
        {
          "name": "stdout",
          "output_type": "stream",
          "text": [
            "[11, 22, 23, 24, 45, 56, 67, 88, 79, 100, 66, 76, 43, 78, 44, 33, 119, -70, -23, 89, -33, 86, -12]\n",
            "1011\n",
            "119\n",
            "-70\n"
          ]
        }
      ],
      "source": [
        "# reduce fuction\n",
        "\n",
        "numlist=[11,22,23,24,45,56,67,88,79,100,66,76,43,78,44,33,119,-70,-23,89,-33,86,-12]\n",
        "print(numlist)\n",
        "\n",
        "from functools import reduce\n",
        "\n",
        "sum=reduce(lambda x,y:x+y,numlist)\n",
        "print(sum)\n",
        "\n",
        "max=reduce(lambda x,y:x if x>y else y,numlist)\n",
        "print(max)\n",
        "\n",
        "min=reduce(lambda x,y:x if x<y else y,numlist)\n",
        "print(min)\n",
        "\n"
      ]
    },
    {
      "cell_type": "code",
      "execution_count": null,
      "metadata": {
        "id": "zjuivsLvyFwq"
      },
      "outputs": [],
      "source": [
        "# prompt: gcd\n",
        "\n",
        "import math\n",
        "\n",
        "def gcd(a, b):\n",
        "  return math.gcd(a, b)\n",
        "\n",
        "num1 = int(input(\"Enter the first number: \"))\n",
        "num2 = int(input(\"Enter the second number: \"))\n",
        "\n",
        "result = gcd(num1, num2)\n",
        "print(\"The GCD of\", num1, \"and\", num2, \"is\", result)\n"
      ]
    },
    {
      "cell_type": "code",
      "execution_count": null,
      "metadata": {
        "id": "OkQCtgtwyOMY"
      },
      "outputs": [],
      "source": [
        "def gcd(a, b):\n",
        "  while b:\n",
        "    a, b = b, a % b\n",
        "  return a"
      ]
    },
    {
      "cell_type": "code",
      "execution_count": null,
      "metadata": {
        "id": "a4DejD63zVRD"
      },
      "outputs": [],
      "source": [
        "def lcm(a, b):\n",
        "  return (a * b) // gcd(a, b)\n",
        "\n",
        "num1 = int(input(\"Enter the first number: \"))\n",
        "num2 = int(input(\"Enter the second number: \"))\n",
        "\n",
        "result = lcm(num1, num2)\n",
        "print(\"The LCM of\", num1, \"and\", num2, \"is\", result)"
      ]
    },
    {
      "cell_type": "code",
      "execution_count": null,
      "metadata": {
        "colab": {
          "base_uri": "https://localhost:8080/"
        },
        "id": "2SMkF_Lz1CC6",
        "outputId": "d52e9b04-81c6-412f-aa63-e9bacc0b262a"
      },
      "outputs": [
        {
          "name": "stdout",
          "output_type": "stream",
          "text": [
            "77+99\n",
            "166\n",
            "97\n"
          ]
        }
      ],
      "source": [
        "# eval()\n",
        "\n",
        "print('77+99')\n",
        "print(eval('77+99-5*2'))\n",
        "y=10\n",
        "print(eval('77+y*2'))"
      ]
    },
    {
      "cell_type": "markdown",
      "metadata": {
        "id": "8nr4lWZx0_Qw"
      },
      "source": []
    },
    {
      "cell_type": "code",
      "execution_count": null,
      "metadata": {
        "colab": {
          "base_uri": "https://localhost:8080/"
        },
        "id": "LblnEyTo2Glj",
        "outputId": "a8acbcc0-0ba9-4fd3-83ec-ca90254a1127"
      },
      "outputs": [
        {
          "name": "stdout",
          "output_type": "stream",
          "text": [
            "1 roshan\n",
            "2 preeti\n",
            "3 tannu\n",
            "4 kirtika\n",
            "5 patrh\n",
            "6 sumit\n",
            "7 raj\n",
            "8 yashika\n",
            "9 ram\n"
          ]
        }
      ],
      "source": [
        "#enumerate\n",
        "names=('roshan','preeti','tannu',\"kirtika\",\"patrh\",\"sumit\",\"raj\",\"yashika\",\"ram\")\n",
        "\n",
        "for index,name in enumerate(names):\n",
        "  print(index+1,name)"
      ]
    },
    {
      "cell_type": "code",
      "execution_count": null,
      "metadata": {
        "id": "QDQgG6XG28XW"
      },
      "outputs": [],
      "source": [
        "# zip function\n",
        "names=('roshan','preeti','tannu',\"kirtika\",\"patrh\",\"sumit\",\"raj\",\"yashika\",\"ram\")\n",
        "age=(20,21,22,23,24,25,26,27,28)\n",
        "course=('DA','DS','ML','AI','JAVA','CPP','C','PYTHON','PHP')\n",
        "\n",
        "students=list(zip(names,age,course))\n",
        "print(students)\n",
        "\n",
        "for name,age,course in students:\n",
        "   print(name,age,course)\n",
        "\n",
        "\n",
        "\n",
        "\n",
        "\n",
        "\n"
      ]
    },
    {
      "cell_type": "code",
      "execution_count": null,
      "metadata": {
        "colab": {
          "base_uri": "https://localhost:8080/"
        },
        "id": "PYxImdPy7Yee",
        "outputId": "eebf4549-f89b-4a02-8d8e-7e76e9c48560"
      },
      "outputs": [
        {
          "name": "stdout",
          "output_type": "stream",
          "text": [
            "1 sravan java 78 M\n",
            "2 bobby python 100 F\n",
            "3 ojaswi R 97 M\n",
            "4 rohith cpp 89 M\n",
            "5 gnanesh bigdata 80 M\n"
          ]
        }
      ],
      "source": [
        "# create a list of names\n",
        "names = ['sravan', 'bobby', 'ojaswi', 'rohith', 'gnanesh']\n",
        "\n",
        "# create a list of subjects\n",
        "subjects = ['java', 'python', 'R', 'cpp', 'bigdata']\n",
        "\n",
        "# create a list of marks\n",
        "marks = [78, 100, 97, 89, 80]\n",
        "\n",
        "gender=['M','F','M','M','M']\n",
        "\n",
        "# use enumerate() and zip() function\n",
        "# to iterate the lists\n",
        "t=enumerate(zip(names, subjects, marks,gender))\n",
        "\n",
        "for i, (names, subjects, marks,gender) in t :\n",
        "\tprint(i+1, names, subjects, marks,gender)\n",
        "\n",
        "\n",
        "\n"
      ]
    }
  ],
  "metadata": {
    "colab": {
      "provenance": []
    },
    "kernelspec": {
      "display_name": "Python 3",
      "name": "python3"
    },
    "language_info": {
      "name": "python"
    }
  },
  "nbformat": 4,
  "nbformat_minor": 0
}